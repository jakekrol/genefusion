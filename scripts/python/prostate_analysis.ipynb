{
 "cells": [
  {
   "cell_type": "markdown",
   "metadata": {},
   "source": [
    "# Differential genefusion SVs between PCAWG and 1KG\n",
    "\n",
    "Ideas:\n",
    "\n",
    "- Use 1kg genefusion evidence to filter out PCAWG results.\n",
    "- Gene-wise filtering: for each gene, compute the top 95th percentile of fusions in the genefusion count distribution. There is sufficient evidence these genefusions are common in the healthy population\n",
    "- Population-wise filtering: compute the 95th percentile of normalized count for each gene's genefusion count distribution. Take a distribution of these 95th percentiles. Use the median or 95th percentile imposed on the 95th percentile distribution as filter criteria"
   ]
  },
  {
   "cell_type": "markdown",
   "metadata": {},
   "source": [
    "## Imports"
   ]
  },
  {
   "cell_type": "code",
   "execution_count": 161,
   "metadata": {},
   "outputs": [],
   "source": [
    "import pandas as pd\n",
    "import numpy as np\n",
    "import matplotlib.pyplot as plt\n",
    "import os\n",
    "import sys\n",
    "import glob\n",
    "import re\n",
    "import multiprocessing as mp\n",
    "from functools import partial\n",
    "import itertools\n",
    "os.chdir('/data/jake/genefusion/scripts/python')\n",
    "cpus = 10"
   ]
  },
  {
   "cell_type": "code",
   "execution_count": 71,
   "metadata": {},
   "outputs": [
    {
     "name": "stdout",
     "output_type": "stream",
     "text": [
      "('1', np.int64(69091), np.int64(70008))\n"
     ]
    },
    {
     "data": {
      "text/html": [
       "<div>\n",
       "<style scoped>\n",
       "    .dataframe tbody tr th:only-of-type {\n",
       "        vertical-align: middle;\n",
       "    }\n",
       "\n",
       "    .dataframe tbody tr th {\n",
       "        vertical-align: top;\n",
       "    }\n",
       "\n",
       "    .dataframe thead th {\n",
       "        text-align: right;\n",
       "    }\n",
       "</style>\n",
       "<table border=\"1\" class=\"dataframe\">\n",
       "  <thead>\n",
       "    <tr style=\"text-align: right;\">\n",
       "      <th></th>\n",
       "      <th>chrm</th>\n",
       "      <th>start</th>\n",
       "      <th>end</th>\n",
       "      <th>gene</th>\n",
       "      <th>strand</th>\n",
       "    </tr>\n",
       "  </thead>\n",
       "  <tbody>\n",
       "    <tr>\n",
       "      <th>0</th>\n",
       "      <td>1</td>\n",
       "      <td>69091</td>\n",
       "      <td>70008</td>\n",
       "      <td>OR4F5</td>\n",
       "      <td>pos</td>\n",
       "    </tr>\n",
       "    <tr>\n",
       "      <th>1</th>\n",
       "      <td>1</td>\n",
       "      <td>134901</td>\n",
       "      <td>139379</td>\n",
       "      <td>AL627309.1</td>\n",
       "      <td>neg</td>\n",
       "    </tr>\n",
       "    <tr>\n",
       "      <th>2</th>\n",
       "      <td>1</td>\n",
       "      <td>139790</td>\n",
       "      <td>140339</td>\n",
       "      <td>RP11neg34P13.14</td>\n",
       "      <td>neg</td>\n",
       "    </tr>\n",
       "    <tr>\n",
       "      <th>3</th>\n",
       "      <td>1</td>\n",
       "      <td>367640</td>\n",
       "      <td>368634</td>\n",
       "      <td>OR4F29</td>\n",
       "      <td>pos</td>\n",
       "    </tr>\n",
       "    <tr>\n",
       "      <th>4</th>\n",
       "      <td>1</td>\n",
       "      <td>621059</td>\n",
       "      <td>622053</td>\n",
       "      <td>OR4F16</td>\n",
       "      <td>neg</td>\n",
       "    </tr>\n",
       "  </tbody>\n",
       "</table>\n",
       "</div>"
      ],
      "text/plain": [
       "  chrm   start     end             gene strand\n",
       "0    1   69091   70008            OR4F5    pos\n",
       "1    1  134901  139379       AL627309.1    neg\n",
       "2    1  139790  140339  RP11neg34P13.14    neg\n",
       "3    1  367640  368634           OR4F29    pos\n",
       "4    1  621059  622053           OR4F16    neg"
      ]
     },
     "execution_count": 71,
     "metadata": {},
     "output_type": "execute_result"
    }
   ],
   "source": [
    "gene_file='/data/jake/genefusion/data/gene_file.txt'\n",
    "df_genes = pd.read_csv(gene_file, sep='\\t', header = None)\n",
    "df_genes.columns = ['chrm', 'start', 'end', 'gene', 'strand']\n",
    "def gene_location(df_genes, gene):\n",
    "    gene_row = df_genes[df_genes['gene'] == gene]\n",
    "    chrm = gene_row['chrm'].values[0]\n",
    "    start = gene_row['start'].values[0]\n",
    "    end = gene_row['end'].values[0]\n",
    "    \n",
    "    return chrm, start, end\n",
    "print(gene_location(df_genes, 'OR4F5'))\n",
    "df_genes.head()"
   ]
  },
  {
   "cell_type": "markdown",
   "metadata": {},
   "source": [
    "## 1kg"
   ]
  },
  {
   "cell_type": "code",
   "execution_count": 6,
   "metadata": {},
   "outputs": [],
   "source": [
    "#dir_pcawg = '/data/jake/genefusion/data/2024_10_31-fusions'\n",
    "dir_1kg = '/data/jake/genefusion/data/2024_11_01-fusions-1kg'\n",
    "dir_1kg_fusions = os.path.join(dir_1kg, 'fusions')"
   ]
  },
  {
   "cell_type": "code",
   "execution_count": 10,
   "metadata": {},
   "outputs": [
    {
     "data": {
      "text/plain": [
       "['1.neg.ZNF669.247263264.247267674.fusions',\n",
       " '17.neg.CCL3.34415602.34417515.fusions',\n",
       " '20.pos.VAPB.56964178.57026157.fusions',\n",
       " '10.pos.RP11neg162G10.5.38146668.38148038.fusions',\n",
       " '11.neg.RP5neg901A4.1.67792277.67797928.fusions']"
      ]
     },
     "execution_count": 10,
     "metadata": {},
     "output_type": "execute_result"
    }
   ],
   "source": [
    "os.listdir(dir_1kg_fusions)[0:5]"
   ]
  },
  {
   "cell_type": "code",
   "execution_count": 145,
   "metadata": {},
   "outputs": [
    {
     "name": "stdout",
     "output_type": "stream",
     "text": [
      "26998\n",
      "25924\n"
     ]
    },
    {
     "data": {
      "text/plain": [
       "'/data/jake/genefusion/data/2024_11_01-fusions-1kg/fusions/1.neg.ZNF669.247263264.247267674.fusions'"
      ]
     },
     "execution_count": 145,
     "metadata": {},
     "output_type": "execute_result"
    }
   ],
   "source": [
    "fusionfiles = glob.glob(os.path.join(dir_1kg_fusions, '*.fusions'))\n",
    "print(len(fusionfiles))\n",
    "# filter out empty files\n",
    "fusionfiles = [f for f in fusionfiles if os.stat(f).st_size > 0]\n",
    "print(len(fusionfiles))"
   ]
  },
  {
   "cell_type": "markdown",
   "metadata": {},
   "source": [
    "## ERG (chrm 21 neg)"
   ]
  },
  {
   "cell_type": "code",
   "execution_count": 13,
   "metadata": {},
   "outputs": [],
   "source": [
    "regex = re.compile('21\\\\.neg\\\\.ERG')\n",
    "regex\n",
    "for file in os.listdir(dir_1kg_fusions):\n",
    "    if regex.search(file):\n",
    "        ergfile = file\n",
    "try: \n",
    "    ergfile\n",
    "except NameError:\n",
    "    print('No ERG file found')"
   ]
  },
  {
   "cell_type": "code",
   "execution_count": 18,
   "metadata": {},
   "outputs": [
    {
     "data": {
      "text/html": [
       "<div>\n",
       "<style scoped>\n",
       "    .dataframe tbody tr th:only-of-type {\n",
       "        vertical-align: middle;\n",
       "    }\n",
       "\n",
       "    .dataframe tbody tr th {\n",
       "        vertical-align: top;\n",
       "    }\n",
       "\n",
       "    .dataframe thead th {\n",
       "        text-align: right;\n",
       "    }\n",
       "</style>\n",
       "<table border=\"1\" class=\"dataframe\">\n",
       "  <thead>\n",
       "    <tr style=\"text-align: right;\">\n",
       "      <th></th>\n",
       "      <th>chrm</th>\n",
       "      <th>start</th>\n",
       "      <th>end</th>\n",
       "      <th>gene</th>\n",
       "      <th>strand</th>\n",
       "    </tr>\n",
       "  </thead>\n",
       "  <tbody>\n",
       "    <tr>\n",
       "      <th>0</th>\n",
       "      <td>21</td>\n",
       "      <td>39756323</td>\n",
       "      <td>39756358</td>\n",
       "      <td>ERG</td>\n",
       "      <td>neg</td>\n",
       "    </tr>\n",
       "    <tr>\n",
       "      <th>1</th>\n",
       "      <td>21</td>\n",
       "      <td>39756691</td>\n",
       "      <td>39756781</td>\n",
       "      <td>ERG</td>\n",
       "      <td>neg</td>\n",
       "    </tr>\n",
       "    <tr>\n",
       "      <th>2</th>\n",
       "      <td>21</td>\n",
       "      <td>39760265</td>\n",
       "      <td>39760366</td>\n",
       "      <td>ERG</td>\n",
       "      <td>neg</td>\n",
       "    </tr>\n",
       "    <tr>\n",
       "      <th>3</th>\n",
       "      <td>21</td>\n",
       "      <td>39755190</td>\n",
       "      <td>39755292</td>\n",
       "      <td>ERG</td>\n",
       "      <td>neg</td>\n",
       "    </tr>\n",
       "    <tr>\n",
       "      <th>4</th>\n",
       "      <td>21</td>\n",
       "      <td>39753426</td>\n",
       "      <td>39753527</td>\n",
       "      <td>ERG</td>\n",
       "      <td>neg</td>\n",
       "    </tr>\n",
       "  </tbody>\n",
       "</table>\n",
       "</div>"
      ],
      "text/plain": [
       "  chrm     start       end gene strand\n",
       "0   21  39756323  39756358  ERG    neg\n",
       "1   21  39756691  39756781  ERG    neg\n",
       "2   21  39760265  39760366  ERG    neg\n",
       "3   21  39755190  39755292  ERG    neg\n",
       "4   21  39753426  39753527  ERG    neg"
      ]
     },
     "execution_count": 18,
     "metadata": {},
     "output_type": "execute_result"
    }
   ],
   "source": [
    "df_erg = pd.read_csv(os.path.join(dir_1kg_fusions, ergfile), sep='\\t',header=None)\n",
    "df_erg.columns = ['chrm', 'start', 'end', 'gene', 'strand']\n",
    "df_erg.head()"
   ]
  },
  {
   "cell_type": "markdown",
   "metadata": {},
   "source": [
    "### Mode"
   ]
  },
  {
   "cell_type": "code",
   "execution_count": 27,
   "metadata": {},
   "outputs": [
    {
     "name": "stdout",
     "output_type": "stream",
     "text": [
      "0    ERG\n",
      "Name: gene, dtype: object\n",
      "9813\n",
      "0    DMD\n",
      "Name: gene, dtype: object\n"
     ]
    },
    {
     "data": {
      "text/plain": [
       "np.int64(111)"
      ]
     },
     "execution_count": 27,
     "metadata": {},
     "output_type": "execute_result"
    }
   ],
   "source": [
    "# including self\n",
    "print(df_erg['gene'].mode())\n",
    "print(df_erg['gene'].value_counts().max())\n",
    "# self value\n",
    "# non-self\n",
    "print(df_erg['gene'][df_erg['gene'] != 'ERG'].mode())\n",
    "# mode value\n",
    "df_erg['gene'][df_erg['gene'] != 'ERG'].value_counts().max()"
   ]
  },
  {
   "cell_type": "markdown",
   "metadata": {},
   "source": [
    "### Count ranks and distributions"
   ]
  },
  {
   "cell_type": "code",
   "execution_count": 152,
   "metadata": {},
   "outputs": [
    {
     "name": "stdout",
     "output_type": "stream",
     "text": [
      "[ 1.   3.   7.  21.5]\n"
     ]
    },
    {
     "data": {
      "text/plain": [
       "gene\n",
       "DMD         111\n",
       "TM4SF2       99\n",
       "LARGE        78\n",
       "IL1RAPL1     73\n",
       "DSCAM        61\n",
       "Name: count, dtype: int64"
      ]
     },
     "execution_count": 152,
     "metadata": {},
     "output_type": "execute_result"
    }
   ],
   "source": [
    "counts = df_erg['gene'][df_erg['gene'] != 'ERG'].value_counts().sort_values(ascending=False)\n",
    "qs = np.quantile(counts, [0.25, 0.5, 0.75, 0.95])\n",
    "print(qs)\n",
    "counts.head()"
   ]
  },
  {
   "cell_type": "code",
   "execution_count": 153,
   "metadata": {},
   "outputs": [
    {
     "name": "stdout",
     "output_type": "stream",
     "text": [
      "[0.         0.47712125 0.84509804 1.35111   ]\n"
     ]
    },
    {
     "data": {
      "text/plain": [
       "[]"
      ]
     },
     "execution_count": 153,
     "metadata": {},
     "output_type": "execute_result"
    },
    {
     "data": {
      "image/png": "[encoded data removed]",
      "text/plain": [
       "<Figure size 640x480 with 1 Axes>"
      ]
     },
     "metadata": {},
     "output_type": "display_data"
    }
   ],
   "source": [
    "counts = df_erg['gene'].value_counts().apply(lambda x: np.log10(x))\n",
    "qs = np.quantile(counts, [0.25, 0.5, 0.75, 0.95])\n",
    "print(qs)\n",
    "ax = counts.plot(kind='bar', )\n",
    "ax.hlines(y=qs, xmin=0, xmax=counts.shape[0], color='red', linestyle='--')\n",
    "ax.set_ylabel('log10(count)')\n",
    "ax.set_xticks([])  \n",
    "ax.set_xticklabels([]) "
   ]
  },
  {
   "cell_type": "markdown",
   "metadata": {},
   "source": [
    "#### >= 95th% counts"
   ]
  },
  {
   "cell_type": "code",
   "execution_count": 154,
   "metadata": {},
   "outputs": [
    {
     "data": {
      "text/plain": [
       "gene\n",
       "DMD          111\n",
       "TM4SF2        99\n",
       "LARGE         78\n",
       "IL1RAPL1      73\n",
       "DSCAM         61\n",
       "MTnegND5      53\n",
       "TTC28         47\n",
       "SYN3          44\n",
       "MTnegND4      44\n",
       "MTnegRNR2     42\n",
       "DHRSX         36\n",
       "MTnegCO1      36\n",
       "NLGN4X        36\n",
       "FRMPD4        35\n",
       "MTnegCYB      34\n",
       "ARHGAP6       34\n",
       "RBFOX2        33\n",
       "MTnegCO3      32\n",
       "PCDH11Y       32\n",
       "MTnegRNR1     31\n",
       "FAM19A5       30\n",
       "CECR2         30\n",
       "MKL1          30\n",
       "TBC1D22A      30\n",
       "TNRC6B        29\n",
       "EFCAB6        27\n",
       "NHS           25\n",
       "MTnegND6      25\n",
       "PACSIN2       25\n",
       "REPS2         25\n",
       "MTnegATP6     24\n",
       "MTnegND1      24\n",
       "MTnegND2      23\n",
       "KIAA1671      23\n",
       "MID1          22\n",
       "Name: count, dtype: int64"
      ]
     },
     "execution_count": 154,
     "metadata": {},
     "output_type": "execute_result"
    }
   ],
   "source": [
    "counts = df_erg['gene'][df_erg['gene'] != 'ERG'].value_counts().sort_values(ascending=False)\n",
    "qs = np.quantile(counts, [0.25, 0.5, 0.75, 0.95])\n",
    "counts_95 = counts[counts > qs[3]]\n",
    "counts_95"
   ]
  },
  {
   "cell_type": "markdown",
   "metadata": {},
   "source": [
    "This is the set we'd like to subtract from PCAWG population"
   ]
  },
  {
   "cell_type": "markdown",
   "metadata": {},
   "source": [
    "### Mobility tendency"
   ]
  },
  {
   "cell_type": "markdown",
   "metadata": {},
   "source": [
    "#### 95th percentile"
   ]
  },
  {
   "cell_type": "code",
   "execution_count": 63,
   "metadata": {},
   "outputs": [
    {
     "data": {
      "text/plain": [
       "['DMD', 'TM4SF2', 'LARGE', 'IL1RAPL1', 'DSCAM']"
      ]
     },
     "execution_count": 63,
     "metadata": {},
     "output_type": "execute_result"
    }
   ],
   "source": [
    "counts_95.index.tolist()[0:5]"
   ]
  },
  {
   "cell_type": "code",
   "execution_count": 81,
   "metadata": {},
   "outputs": [
    {
     "data": {
      "text/plain": [
       "chrm\n",
       "22    12\n",
       "MT    11\n",
       "X     10\n",
       "21     1\n",
       "Y      1\n",
       "Name: count, dtype: int64"
      ]
     },
     "execution_count": 81,
     "metadata": {},
     "output_type": "execute_result"
    }
   ],
   "source": [
    "locations_95 = {}\n",
    "for gene in counts_95.index:\n",
    "    locations_95[gene] = gene_location(df_genes, gene)\n",
    "locations_95 = pd.DataFrame.from_dict(locations_95, orient='index', columns=['chrm', 'start', 'end'])\n",
    "locations_95.chrm.value_counts()"
   ]
  },
  {
   "cell_type": "markdown",
   "metadata": {},
   "source": [
    "## Population stats\n",
    "\n",
    "Normalize counts to [0,1] frequencies for comparison across populations"
   ]
  },
  {
   "cell_type": "code",
   "execution_count": 151,
   "metadata": {},
   "outputs": [
    {
     "name": "stdout",
     "output_type": "stream",
     "text": [
      "21.5\n",
      "0.004821708903341556\n"
     ]
    }
   ],
   "source": [
    "def get_95(fusionfile, normalize=False):\n",
    "    base = os.path.basename(fusionfile)\n",
    "    gene = base.split('.')[2]\n",
    "    df = pd.read_csv(fusionfile, sep='\\t', header=None)\n",
    "    df.columns = ['chrm', 'start', 'end', 'gene', 'strand']\n",
    "    counts = df['gene'][df['gene'] != gene].value_counts(normalize=normalize)\\\n",
    "        .sort_values(ascending=False)\n",
    "    q = float(np.quantile(counts, 0.95))\n",
    "    return q\n",
    "print(get_95(os.path.join(dir_1kg_fusions, '21.neg.ERG.39751949.40033704.fusions')))\n",
    "print(get_95(os.path.join(dir_1kg_fusions, '21.neg.ERG.39751949.40033704.fusions'), normalize=True))"
   ]
  },
  {
   "cell_type": "code",
   "execution_count": 125,
   "metadata": {},
   "outputs": [],
   "source": [
    "%%capture\n",
    "with mp.Pool(processes=cpus) as pool:\n",
    "    dist_95 = pool.map(get_95, fusionfiles)\n",
    "dist_95[0:5]"
   ]
  },
  {
   "cell_type": "code",
   "execution_count": 129,
   "metadata": {},
   "outputs": [
    {
     "data": {
      "text/plain": [
       "[2.0, 4.3999999999999915, 8.5, 1.0, 2.0]"
      ]
     },
     "execution_count": 129,
     "metadata": {},
     "output_type": "execute_result"
    }
   ],
   "source": [
    "filt_95 = [x for x in dist_95 if x is not None]\n",
    "filt_95[0:5]"
   ]
  },
  {
   "cell_type": "code",
   "execution_count": 130,
   "metadata": {},
   "outputs": [
    {
     "data": {
      "text/plain": [
       "count    25924.000000\n",
       "mean         7.174452\n",
       "std         22.957931\n",
       "min          1.000000\n",
       "25%          2.000000\n",
       "50%          4.000000\n",
       "75%          8.000000\n",
       "max       2563.600000\n",
       "dtype: float64"
      ]
     },
     "execution_count": 130,
     "metadata": {},
     "output_type": "execute_result"
    }
   ],
   "source": [
    "pd.Series(filt_95).describe()"
   ]
  },
  {
   "cell_type": "code",
   "execution_count": 131,
   "metadata": {},
   "outputs": [
    {
     "data": {
      "text/plain": [
       "np.float64(22.0)"
      ]
     },
     "execution_count": 131,
     "metadata": {},
     "output_type": "execute_result"
    }
   ],
   "source": [
    "pd.Series(filt_95).quantile(0.95)"
   ]
  },
  {
   "cell_type": "markdown",
   "metadata": {},
   "source": [
    "- Median of 95th percentile distribution is 4\n",
    "\n",
    "- 95th of 95th percentile distribution is 22"
   ]
  },
  {
   "cell_type": "markdown",
   "metadata": {},
   "source": [
    "### Normalized counts"
   ]
  },
  {
   "cell_type": "code",
   "execution_count": 134,
   "metadata": {},
   "outputs": [],
   "source": [
    "%%capture\n",
    "normalize = True\n",
    "with mp.Pool(processes=cpus) as pool:\n",
    "    get_95_norm = partial(get_95, normalize=normalize)\n",
    "    dist_95_norm = pool.map(get_95_norm,fusionfiles)\n",
    "dist_95_norm[0:5]"
   ]
  },
  {
   "cell_type": "code",
   "execution_count": 135,
   "metadata": {},
   "outputs": [
    {
     "data": {
      "text/plain": [
       "[0.0008090614886731392,\n",
       " 0.030344827586206838,\n",
       " 0.005286069651741294,\n",
       " 0.004424778761061947,\n",
       " 0.0014124293785310734]"
      ]
     },
     "execution_count": 135,
     "metadata": {},
     "output_type": "execute_result"
    }
   ],
   "source": [
    "filt_95_norm = [x for x in dist_95_norm if x is not None]\n",
    "filt_95_norm[0:5]"
   ]
  },
  {
   "cell_type": "code",
   "execution_count": 137,
   "metadata": {},
   "outputs": [
    {
     "data": {
      "text/plain": [
       "count    25924.000000\n",
       "mean         0.008536\n",
       "std          0.044347\n",
       "min          0.000067\n",
       "25%          0.000509\n",
       "50%          0.001144\n",
       "75%          0.003602\n",
       "max          1.000000\n",
       "dtype: float64"
      ]
     },
     "execution_count": 137,
     "metadata": {},
     "output_type": "execute_result"
    }
   ],
   "source": [
    "pd.Series(filt_95_norm).describe()"
   ]
  },
  {
   "cell_type": "code",
   "execution_count": 138,
   "metadata": {},
   "outputs": [
    {
     "data": {
      "text/plain": [
       "np.float64(0.019417475728155338)"
      ]
     },
     "execution_count": 138,
     "metadata": {},
     "output_type": "execute_result"
    }
   ],
   "source": [
    "pd.Series(filt_95_norm).quantile(0.95)"
   ]
  },
  {
   "cell_type": "markdown",
   "metadata": {},
   "source": [
    "Use the preceeding results as a gene-wise filter for PCAWG.\n",
    "\n",
    "Example\n",
    "\n",
    "If a genefusion has a relative frequency of >20% (95th%tile) within its count distribution in the 1000 genomes population, then ignore it in PCAWG population."
   ]
  },
  {
   "cell_type": "markdown",
   "metadata": {},
   "source": [
    "#### Gene-wise filtering"
   ]
  },
  {
   "cell_type": "code",
   "execution_count": 169,
   "metadata": {},
   "outputs": [
    {
     "data": {
      "text/plain": [
       "['ERG+DMD',\n",
       " 'ERG+TM4SF2',\n",
       " 'ERG+LARGE',\n",
       " 'ERG+IL1RAPL1',\n",
       " 'ERG+DSCAM',\n",
       " 'ERG+MTnegND5',\n",
       " 'ERG+TTC28',\n",
       " 'ERG+SYN3',\n",
       " 'ERG+MTnegND4',\n",
       " 'ERG+MTnegRNR2',\n",
       " 'ERG+DHRSX',\n",
       " 'ERG+MTnegCO1',\n",
       " 'ERG+NLGN4X',\n",
       " 'ERG+FRMPD4',\n",
       " 'ERG+MTnegCYB',\n",
       " 'ERG+ARHGAP6',\n",
       " 'ERG+RBFOX2',\n",
       " 'ERG+MTnegCO3',\n",
       " 'ERG+PCDH11Y',\n",
       " 'ERG+MTnegRNR1',\n",
       " 'ERG+FAM19A5',\n",
       " 'ERG+CECR2',\n",
       " 'ERG+MKL1',\n",
       " 'ERG+TBC1D22A',\n",
       " 'ERG+TNRC6B',\n",
       " 'ERG+EFCAB6',\n",
       " 'ERG+NHS',\n",
       " 'ERG+MTnegND6',\n",
       " 'ERG+PACSIN2',\n",
       " 'ERG+REPS2',\n",
       " 'ERG+MTnegATP6',\n",
       " 'ERG+MTnegND1',\n",
       " 'ERG+MTnegND2',\n",
       " 'ERG+KIAA1671',\n",
       " 'ERG+MID1']"
      ]
     },
     "execution_count": 169,
     "metadata": {},
     "output_type": "execute_result"
    }
   ],
   "source": [
    "def healthy_fusions(fusionfile, q = 0.95, normalize=True):\n",
    "    base = os.path.basename(fusionfile)\n",
    "    gene = base.split('.')[2]\n",
    "    df = pd.read_csv(fusionfile, sep='\\t', header=None)\n",
    "    df.columns = ['chrm', 'start', 'end', 'gene', 'strand']\n",
    "    counts = df['gene'][df['gene'] != gene].value_counts(normalize=normalize).sort_values(ascending=False)\n",
    "    qp = float(np.quantile(counts, q))\n",
    "    h_fusions = counts[counts > qp].index.tolist()\n",
    "    h_fusions = [f'{gene}+{x}' for x in h_fusions]\n",
    "    return h_fusions\n",
    "healthy_fusions('/data/jake/genefusion/data/2024_11_01-fusions-1kg/fusions/21.neg.ERG.39751949.40033704.fusions')   "
   ]
  },
  {
   "cell_type": "code",
   "execution_count": 170,
   "metadata": {},
   "outputs": [],
   "source": [
    "%%capture\n",
    "with mp.Pool(processes=cpus) as pool:\n",
    "    h_fusions = pool.map(healthy_fusions, fusionfiles)"
   ]
  },
  {
   "cell_type": "code",
   "execution_count": 171,
   "metadata": {},
   "outputs": [
    {
     "data": {
      "text/plain": [
       "3786645"
      ]
     },
     "execution_count": 171,
     "metadata": {},
     "output_type": "execute_result"
    }
   ],
   "source": [
    "len(list(itertools.chain.from_iterable(h_fusions)))"
   ]
  },
  {
   "cell_type": "code",
   "execution_count": 174,
   "metadata": {},
   "outputs": [],
   "source": [
    "%%capture\n",
    "with mp.Pool(processes=cpus) as pool:\n",
    "    partial_healthy_fusions = partial(healthy_fusions, q=0.5, normalize=True)\n",
    "    h_fusions_med = pool.map(partial_healthy_fusions, fusionfiles)"
   ]
  },
  {
   "cell_type": "code",
   "execution_count": 175,
   "metadata": {},
   "outputs": [
    {
     "data": {
      "text/plain": [
       "34375533"
      ]
     },
     "execution_count": 175,
     "metadata": {},
     "output_type": "execute_result"
    }
   ],
   "source": [
    "len(list(itertools.chain.from_iterable(h_fusions_med)))"
   ]
  },
  {
   "cell_type": "markdown",
   "metadata": {},
   "source": [
    "## Summary\n",
    "\n",
    "- 3.8M genefusions filtered out by gene-wise 95th percentile\n",
    "- 34M genefusions filtered out by gene-wise median"
   ]
  }
 ],
 "metadata": {
  "kernelspec": {
   "display_name": "Python 3 (ipykernel)",
   "language": "python",
   "name": "python3"
  },
  "language_info": {
   "codemirror_mode": {
    "name": "ipython",
    "version": 3
   },
   "file_extension": ".py",
   "mimetype": "text/x-python",
   "name": "python",
   "nbconvert_exporter": "python",
   "pygments_lexer": "ipython3",
   "version": "3.12.2"
  }
 },
 "nbformat": 4,
 "nbformat_minor": 2
}
