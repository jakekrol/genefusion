{
 "cells": [
  {
   "cell_type": "code",
   "execution_count": 2,
   "metadata": {},
   "outputs": [
    {
     "name": "stdout",
     "output_type": "stream",
     "text": [
      "35\n"
     ]
    }
   ],
   "source": [
    "import pandas as pd\n",
    "import os,sys\n",
    "import numpy as np\n",
    "import multiprocessing as mp\n",
    "import matplotlib.pyplot as plt\n",
    "import math\n",
    "import importlib\n",
    "cpus = int(np.floor(mp.cpu_count()/2)-1)\n",
    "print(cpus)\n",
    "\n",
    "os.chdir('/data/jake/genefusion/scripts/python')"
   ]
  },
  {
   "cell_type": "code",
   "execution_count": 3,
   "metadata": {},
   "outputs": [],
   "source": [
    "# local functions\n",
    "#import gene_fusion"
   ]
  },
  {
   "cell_type": "code",
   "execution_count": 4,
   "metadata": {},
   "outputs": [],
   "source": [
    "# call this block to reload modules\n",
    "#importlib.reload(gene_fusion)"
   ]
  },
  {
   "cell_type": "markdown",
   "metadata": {},
   "source": [
    "## GRCh37 Gene list"
   ]
  },
  {
   "cell_type": "code",
   "execution_count": 5,
   "metadata": {},
   "outputs": [
    {
     "data": {
      "text/html": [
       "<div>\n",
       "<style scoped>\n",
       "    .dataframe tbody tr th:only-of-type {\n",
       "        vertical-align: middle;\n",
       "    }\n",
       "\n",
       "    .dataframe tbody tr th {\n",
       "        vertical-align: top;\n",
       "    }\n",
       "\n",
       "    .dataframe thead th {\n",
       "        text-align: right;\n",
       "    }\n",
       "</style>\n",
       "<table border=\"1\" class=\"dataframe\">\n",
       "  <thead>\n",
       "    <tr style=\"text-align: right;\">\n",
       "      <th></th>\n",
       "      <th>chr</th>\n",
       "      <th>start</th>\n",
       "      <th>end</th>\n",
       "      <th>gene</th>\n",
       "      <th>strand</th>\n",
       "    </tr>\n",
       "  </thead>\n",
       "  <tbody>\n",
       "    <tr>\n",
       "      <th>0</th>\n",
       "      <td>chr1</td>\n",
       "      <td>69091</td>\n",
       "      <td>70008</td>\n",
       "      <td>OR4F5</td>\n",
       "      <td>+</td>\n",
       "    </tr>\n",
       "    <tr>\n",
       "      <th>1</th>\n",
       "      <td>chr1</td>\n",
       "      <td>134901</td>\n",
       "      <td>139379</td>\n",
       "      <td>AL627309.1</td>\n",
       "      <td>-</td>\n",
       "    </tr>\n",
       "    <tr>\n",
       "      <th>2</th>\n",
       "      <td>chr1</td>\n",
       "      <td>139790</td>\n",
       "      <td>140339</td>\n",
       "      <td>RP11-34P13.14</td>\n",
       "      <td>-</td>\n",
       "    </tr>\n",
       "    <tr>\n",
       "      <th>3</th>\n",
       "      <td>chr1</td>\n",
       "      <td>367640</td>\n",
       "      <td>368634</td>\n",
       "      <td>OR4F29</td>\n",
       "      <td>+</td>\n",
       "    </tr>\n",
       "    <tr>\n",
       "      <th>4</th>\n",
       "      <td>chr1</td>\n",
       "      <td>621059</td>\n",
       "      <td>622053</td>\n",
       "      <td>OR4F16</td>\n",
       "      <td>-</td>\n",
       "    </tr>\n",
       "  </tbody>\n",
       "</table>\n",
       "</div>"
      ],
      "text/plain": [
       "    chr   start     end           gene strand\n",
       "0  chr1   69091   70008          OR4F5      +\n",
       "1  chr1  134901  139379     AL627309.1      -\n",
       "2  chr1  139790  140339  RP11-34P13.14      -\n",
       "3  chr1  367640  368634         OR4F29      +\n",
       "4  chr1  621059  622053         OR4F16      -"
      ]
     },
     "execution_count": 5,
     "metadata": {},
     "output_type": "execute_result"
    }
   ],
   "source": [
    "# full file\n",
    "df = pd.read_csv('../../data/Homo_sapiens.GRCh37.82.chr.genes.bed',sep='\\t',header=None)\n",
    "## drop '.' column\n",
    "df = df.drop(df.columns[4],axis=1)\n",
    "df.columns = df.columns = ['chr', 'start', 'end', 'gene', 'strand']\n",
    "df.head()"
   ]
  },
  {
   "cell_type": "code",
   "execution_count": 6,
   "metadata": {},
   "outputs": [
    {
     "name": "stdout",
     "output_type": "stream",
     "text": [
      "before: ['chr1' 'chr10' 'chr11' 'chr12' 'chr13' 'chr14' 'chr15' 'chr16' 'chr17'\n",
      " 'chr18' 'chr19' 'chr2' 'chr20' 'chr21' 'chr22' 'chr3' 'chr4' 'chr5'\n",
      " 'chr6' 'chr7' 'chr8' 'chr9' 'chrGL000191.1' 'chrGL000192.1'\n",
      " 'chrGL000193.1' 'chrGL000194.1' 'chrGL000195.1' 'chrGL000201.1'\n",
      " 'chrGL000204.1' 'chrGL000205.1' 'chrGL000209.1' 'chrGL000212.1'\n",
      " 'chrGL000213.1' 'chrGL000215.1' 'chrGL000218.1' 'chrGL000219.1'\n",
      " 'chrGL000221.1' 'chrGL000222.1' 'chrGL000223.1' 'chrGL000228.1'\n",
      " 'chrGL000237.1' 'chrGL000242.1' 'chrMT' 'chrX' 'chrY']\n",
      "after: ['chr1' 'chr10' 'chr11' 'chr12' 'chr13' 'chr14' 'chr15' 'chr16' 'chr17'\n",
      " 'chr18' 'chr19' 'chr2' 'chr20' 'chr21' 'chr22' 'chr3' 'chr4' 'chr5'\n",
      " 'chr6' 'chr7' 'chr8' 'chr9' 'chrX' 'chrY']\n"
     ]
    }
   ],
   "source": [
    "# exclude special chr\n",
    "print('before:',df.chr.unique())\n",
    "df = df[df['chr'].str.contains('chr\\\\d|chrX|chrY', regex=True)]\n",
    "print('after:',df.chr.unique())"
   ]
  },
  {
   "cell_type": "code",
   "execution_count": null,
   "metadata": {},
   "outputs": [
    {
     "name": "stdout",
     "output_type": "stream",
     "text": [
      "../../data/chr_gene_lists/chr1.pos already exists.\n",
      "../../data/chr_gene_lists/chr1.neg already exists.\n",
      "../../data/chr_gene_lists/chr10.pos already exists.\n",
      "../../data/chr_gene_lists/chr10.neg already exists.\n",
      "../../data/chr_gene_lists/chr11.pos already exists.\n",
      "../../data/chr_gene_lists/chr11.neg already exists.\n",
      "../../data/chr_gene_lists/chr12.pos already exists.\n",
      "../../data/chr_gene_lists/chr12.neg already exists.\n",
      "../../data/chr_gene_lists/chr13.pos already exists.\n",
      "../../data/chr_gene_lists/chr13.neg already exists.\n",
      "../../data/chr_gene_lists/chr14.pos already exists.\n",
      "../../data/chr_gene_lists/chr14.neg already exists.\n",
      "../../data/chr_gene_lists/chr15.pos already exists.\n",
      "../../data/chr_gene_lists/chr15.neg already exists.\n",
      "../../data/chr_gene_lists/chr16.pos already exists.\n",
      "../../data/chr_gene_lists/chr16.neg already exists.\n",
      "../../data/chr_gene_lists/chr17.pos already exists.\n",
      "../../data/chr_gene_lists/chr17.neg already exists.\n",
      "../../data/chr_gene_lists/chr18.pos already exists.\n",
      "../../data/chr_gene_lists/chr18.neg already exists.\n",
      "../../data/chr_gene_lists/chr19.pos already exists.\n",
      "../../data/chr_gene_lists/chr19.neg already exists.\n",
      "../../data/chr_gene_lists/chr2.pos already exists.\n",
      "../../data/chr_gene_lists/chr2.neg already exists.\n",
      "../../data/chr_gene_lists/chr20.pos already exists.\n",
      "../../data/chr_gene_lists/chr20.neg already exists.\n",
      "../../data/chr_gene_lists/chr21.pos already exists.\n",
      "../../data/chr_gene_lists/chr21.neg already exists.\n",
      "../../data/chr_gene_lists/chr22.pos already exists.\n",
      "../../data/chr_gene_lists/chr22.neg already exists.\n",
      "../../data/chr_gene_lists/chr3.pos already exists.\n",
      "../../data/chr_gene_lists/chr3.neg already exists.\n",
      "../../data/chr_gene_lists/chr4.pos already exists.\n",
      "../../data/chr_gene_lists/chr4.neg already exists.\n",
      "../../data/chr_gene_lists/chr5.pos already exists.\n",
      "../../data/chr_gene_lists/chr5.neg already exists.\n",
      "../../data/chr_gene_lists/chr6.pos already exists.\n",
      "../../data/chr_gene_lists/chr6.neg already exists.\n",
      "../../data/chr_gene_lists/chr7.pos already exists.\n",
      "../../data/chr_gene_lists/chr7.neg already exists.\n",
      "../../data/chr_gene_lists/chr8.pos already exists.\n",
      "../../data/chr_gene_lists/chr8.neg already exists.\n",
      "../../data/chr_gene_lists/chr9.pos already exists.\n",
      "../../data/chr_gene_lists/chr9.neg already exists.\n",
      "../../data/chr_gene_lists/chrX.pos already exists.\n",
      "../../data/chr_gene_lists/chrX.neg already exists.\n",
      "../../data/chr_gene_lists/chrY.pos already exists.\n",
      "../../data/chr_gene_lists/chrY.neg already exists.\n"
     ]
    }
   ],
   "source": [
    "dir_chr_gene_lists='../../data/chr_gene_lists'\n",
    "groups = [group for _,group in df.groupby(['chr','strand'])]\n",
    "for d in groups:\n",
    "    fname = f\"{d['chr'].unique()[0]}.{d['strand'].apply(lambda x: 'pos' if x == '+' else 'neg').unique()[0]}\"\n",
    "    out = os.path.join(dir_chr_gene_lists,fname)\n",
    "    if not os.path.exists(out):\n",
    "        d.to_csv(out,sep='\\t',header=False, index=False)\n",
    "    else:\n",
    "        print(out, 'already exists.')\n"
   ]
  },
  {
   "cell_type": "code",
   "execution_count": 8,
   "metadata": {},
   "outputs": [
    {
     "data": {
      "text/html": [
       "<div>\n",
       "<style scoped>\n",
       "    .dataframe tbody tr th:only-of-type {\n",
       "        vertical-align: middle;\n",
       "    }\n",
       "\n",
       "    .dataframe tbody tr th {\n",
       "        vertical-align: top;\n",
       "    }\n",
       "\n",
       "    .dataframe thead th {\n",
       "        text-align: right;\n",
       "    }\n",
       "</style>\n",
       "<table border=\"1\" class=\"dataframe\">\n",
       "  <thead>\n",
       "    <tr style=\"text-align: right;\">\n",
       "      <th></th>\n",
       "      <th>0</th>\n",
       "      <th>1</th>\n",
       "      <th>2</th>\n",
       "      <th>3</th>\n",
       "      <th>4</th>\n",
       "    </tr>\n",
       "  </thead>\n",
       "  <tbody>\n",
       "    <tr>\n",
       "      <th>0</th>\n",
       "      <td>chr21</td>\n",
       "      <td>10906201</td>\n",
       "      <td>11029719</td>\n",
       "      <td>TPTE</td>\n",
       "      <td>-</td>\n",
       "    </tr>\n",
       "    <tr>\n",
       "      <th>1</th>\n",
       "      <td>chr21</td>\n",
       "      <td>14741931</td>\n",
       "      <td>14745386</td>\n",
       "      <td>AL050302.1</td>\n",
       "      <td>-</td>\n",
       "    </tr>\n",
       "    <tr>\n",
       "      <th>2</th>\n",
       "      <td>chr21</td>\n",
       "      <td>15051621</td>\n",
       "      <td>15053459</td>\n",
       "      <td>AL050303.1</td>\n",
       "      <td>-</td>\n",
       "    </tr>\n",
       "    <tr>\n",
       "      <th>3</th>\n",
       "      <td>chr21</td>\n",
       "      <td>15481134</td>\n",
       "      <td>15583166</td>\n",
       "      <td>LIPI</td>\n",
       "      <td>-</td>\n",
       "    </tr>\n",
       "    <tr>\n",
       "      <th>4</th>\n",
       "      <td>chr21</td>\n",
       "      <td>15743436</td>\n",
       "      <td>15755805</td>\n",
       "      <td>HSPA13</td>\n",
       "      <td>-</td>\n",
       "    </tr>\n",
       "  </tbody>\n",
       "</table>\n",
       "</div>"
      ],
      "text/plain": [
       "       0         1         2           3  4\n",
       "0  chr21  10906201  11029719        TPTE  -\n",
       "1  chr21  14741931  14745386  AL050302.1  -\n",
       "2  chr21  15051621  15053459  AL050303.1  -\n",
       "3  chr21  15481134  15583166        LIPI  -\n",
       "4  chr21  15743436  15755805      HSPA13  -"
      ]
     },
     "execution_count": 8,
     "metadata": {},
     "output_type": "execute_result"
    }
   ],
   "source": [
    "chr21 = pd.read_csv(os.path.join(dir_chr_gene_lists,'chr21.neg'),sep='\\t',header=None).head()\n",
    "chr21.head()"
   ]
  },
  {
   "cell_type": "markdown",
   "metadata": {},
   "source": [
    "## Count valid gene pairs\n"
   ]
  },
  {
   "cell_type": "markdown",
   "metadata": {},
   "source": [
    "- Beds are left sorted.\n",
    "- The first gene has n-1 pairs\n",
    "- The next gene has n-2 pairs\n",
    "- ...\n",
    "- The last gene has 0 pairs\n",
    "\n",
    " $\\sum_{k=1}^{n} = \\frac{n(n+1)}{2}$ so $\\sum_{k=0}^{n-1}k = \\frac{(n-1)((n-1)+1)}{2} = \\frac{(n-1)n}{2}$."
   ]
  },
  {
   "cell_type": "code",
   "execution_count": 9,
   "metadata": {},
   "outputs": [
    {
     "name": "stdout",
     "output_type": "stream",
     "text": [
      "total_genes (m): 26998\n",
      "n choose 2 combinations: 364432503\n",
      "valid pairs: 9397477.0\n"
     ]
    }
   ],
   "source": [
    "pairs = 0\n",
    "total_genes = 0\n",
    "files = [os.path.join(dir_chr_gene_lists,f) for f in os.listdir(dir_chr_gene_lists)]\n",
    "for file in files:\n",
    "    with open(file, 'r') as f:\n",
    "        n = sum(1 for line in f)\n",
    "        pairs += (((n-1) * n) /2)\n",
    "        total_genes += n\n",
    "print('total_genes (m):',total_genes)\n",
    "#print('m^2:',total_genes**2)\n",
    "all_pairs = math.comb(total_genes,2)\n",
    "print('n choose 2 combinations:',all_pairs)\n",
    "print('valid pairs:',pairs)\n"
   ]
  },
  {
   "cell_type": "code",
   "execution_count": 10,
   "metadata": {},
   "outputs": [
    {
     "data": {
      "text/plain": [
       "Text(0, 0.5, 'log10')"
      ]
     },
     "execution_count": 10,
     "metadata": {},
     "output_type": "execute_result"
    },
    {
     "data": {
      "image/png": "[encoded data removed]",
      "text/plain": [
       "<Figure size 640x480 with 1 Axes>"
      ]
     },
     "metadata": {},
     "output_type": "display_data"
    }
   ],
   "source": [
    "data = [np.log10(x) for x in [total_genes,all_pairs,pairs]]\n",
    "plt.bar(['total_genes','n choose 2 comb','valid_pairs'],data)\n",
    "plt.ylabel('log10')"
   ]
  },
  {
   "cell_type": "markdown",
   "metadata": {},
   "source": [
    "### 10-28-2024 distance cutoff\n",
    "\n",
    "[This paper](https://doi.org/10.1038/nature15394) indicates most SVs, including DELs, are less than 1MB in **healthy, 1000 genomes**. At least for those reported in phase 3, presumably from short read analysis.\n",
    "\n",
    "For cancer genomes, https://www.nature.com/articles/s41586-019-1913-9. The sizes of deletions are much larger.\n",
    "\n",
    "- Centered around ~10kb\n",
    "- Reasonable amount of DELs up to 10MB length\n",
    "\n",
    "The distance between ERG and TMPRSS2 is 2Mb."
   ]
  },
  {
   "cell_type": "code",
   "execution_count": 11,
   "metadata": {},
   "outputs": [
    {
     "data": {
      "text/html": [
       "<div>\n",
       "<style scoped>\n",
       "    .dataframe tbody tr th:only-of-type {\n",
       "        vertical-align: middle;\n",
       "    }\n",
       "\n",
       "    .dataframe tbody tr th {\n",
       "        vertical-align: top;\n",
       "    }\n",
       "\n",
       "    .dataframe thead th {\n",
       "        text-align: right;\n",
       "    }\n",
       "</style>\n",
       "<table border=\"1\" class=\"dataframe\">\n",
       "  <thead>\n",
       "    <tr style=\"text-align: right;\">\n",
       "      <th></th>\n",
       "      <th>0</th>\n",
       "      <th>1</th>\n",
       "      <th>2</th>\n",
       "      <th>3</th>\n",
       "      <th>4</th>\n",
       "    </tr>\n",
       "  </thead>\n",
       "  <tbody>\n",
       "    <tr>\n",
       "      <th>0</th>\n",
       "      <td>chr19</td>\n",
       "      <td>107471</td>\n",
       "      <td>111696</td>\n",
       "      <td>OR4F17</td>\n",
       "      <td>+</td>\n",
       "    </tr>\n",
       "    <tr>\n",
       "      <th>1</th>\n",
       "      <td>chr19</td>\n",
       "      <td>305573</td>\n",
       "      <td>306467</td>\n",
       "      <td>CTD-3113P16.5</td>\n",
       "      <td>+</td>\n",
       "    </tr>\n",
       "    <tr>\n",
       "      <th>2</th>\n",
       "      <td>chr19</td>\n",
       "      <td>489176</td>\n",
       "      <td>505347</td>\n",
       "      <td>MADCAM1</td>\n",
       "      <td>+</td>\n",
       "    </tr>\n",
       "    <tr>\n",
       "      <th>3</th>\n",
       "      <td>chr19</td>\n",
       "      <td>507299</td>\n",
       "      <td>519654</td>\n",
       "      <td>TPGS1</td>\n",
       "      <td>+</td>\n",
       "    </tr>\n",
       "    <tr>\n",
       "      <th>4</th>\n",
       "      <td>chr19</td>\n",
       "      <td>531714</td>\n",
       "      <td>542097</td>\n",
       "      <td>CDC34</td>\n",
       "      <td>+</td>\n",
       "    </tr>\n",
       "  </tbody>\n",
       "</table>\n",
       "</div>"
      ],
      "text/plain": [
       "       0       1       2              3  4\n",
       "0  chr19  107471  111696         OR4F17  +\n",
       "1  chr19  305573  306467  CTD-3113P16.5  +\n",
       "2  chr19  489176  505347        MADCAM1  +\n",
       "3  chr19  507299  519654          TPGS1  +\n",
       "4  chr19  531714  542097          CDC34  +"
      ]
     },
     "execution_count": 11,
     "metadata": {},
     "output_type": "execute_result"
    }
   ],
   "source": [
    "d = pd.read_csv(files[0], sep='\\t', header=None)\n",
    "d.head()"
   ]
  },
  {
   "cell_type": "code",
   "execution_count": 12,
   "metadata": {},
   "outputs": [
    {
     "data": {
      "text/html": [
       "<div>\n",
       "<style scoped>\n",
       "    .dataframe tbody tr th:only-of-type {\n",
       "        vertical-align: middle;\n",
       "    }\n",
       "\n",
       "    .dataframe tbody tr th {\n",
       "        vertical-align: top;\n",
       "    }\n",
       "\n",
       "    .dataframe thead th {\n",
       "        text-align: right;\n",
       "    }\n",
       "</style>\n",
       "<table border=\"1\" class=\"dataframe\">\n",
       "  <thead>\n",
       "    <tr style=\"text-align: right;\">\n",
       "      <th></th>\n",
       "      <th>0</th>\n",
       "      <th>1</th>\n",
       "      <th>2</th>\n",
       "      <th>3</th>\n",
       "      <th>4</th>\n",
       "    </tr>\n",
       "  </thead>\n",
       "  <tbody>\n",
       "    <tr>\n",
       "      <th>1</th>\n",
       "      <td>chr19</td>\n",
       "      <td>305573</td>\n",
       "      <td>306467</td>\n",
       "      <td>CTD-3113P16.5</td>\n",
       "      <td>+</td>\n",
       "    </tr>\n",
       "    <tr>\n",
       "      <th>2</th>\n",
       "      <td>chr19</td>\n",
       "      <td>489176</td>\n",
       "      <td>505347</td>\n",
       "      <td>MADCAM1</td>\n",
       "      <td>+</td>\n",
       "    </tr>\n",
       "    <tr>\n",
       "      <th>3</th>\n",
       "      <td>chr19</td>\n",
       "      <td>507299</td>\n",
       "      <td>519654</td>\n",
       "      <td>TPGS1</td>\n",
       "      <td>+</td>\n",
       "    </tr>\n",
       "    <tr>\n",
       "      <th>4</th>\n",
       "      <td>chr19</td>\n",
       "      <td>531714</td>\n",
       "      <td>542097</td>\n",
       "      <td>CDC34</td>\n",
       "      <td>+</td>\n",
       "    </tr>\n",
       "    <tr>\n",
       "      <th>5</th>\n",
       "      <td>chr19</td>\n",
       "      <td>544034</td>\n",
       "      <td>549919</td>\n",
       "      <td>GZMM</td>\n",
       "      <td>+</td>\n",
       "    </tr>\n",
       "    <tr>\n",
       "      <th>...</th>\n",
       "      <td>...</td>\n",
       "      <td>...</td>\n",
       "      <td>...</td>\n",
       "      <td>...</td>\n",
       "      <td>...</td>\n",
       "    </tr>\n",
       "    <tr>\n",
       "      <th>903</th>\n",
       "      <td>chr19</td>\n",
       "      <td>58962971</td>\n",
       "      <td>58969200</td>\n",
       "      <td>ZNF324B</td>\n",
       "      <td>+</td>\n",
       "    </tr>\n",
       "    <tr>\n",
       "      <th>904</th>\n",
       "      <td>chr19</td>\n",
       "      <td>58978423</td>\n",
       "      <td>58984945</td>\n",
       "      <td>ZNF324</td>\n",
       "      <td>+</td>\n",
       "    </tr>\n",
       "    <tr>\n",
       "      <th>905</th>\n",
       "      <td>chr19</td>\n",
       "      <td>58985384</td>\n",
       "      <td>58992597</td>\n",
       "      <td>ZNF446</td>\n",
       "      <td>+</td>\n",
       "    </tr>\n",
       "    <tr>\n",
       "      <th>906</th>\n",
       "      <td>chr19</td>\n",
       "      <td>59055458</td>\n",
       "      <td>59062089</td>\n",
       "      <td>TRIM28</td>\n",
       "      <td>+</td>\n",
       "    </tr>\n",
       "    <tr>\n",
       "      <th>907</th>\n",
       "      <td>chr19</td>\n",
       "      <td>59070496</td>\n",
       "      <td>59086164</td>\n",
       "      <td>AC016629.8</td>\n",
       "      <td>+</td>\n",
       "    </tr>\n",
       "  </tbody>\n",
       "</table>\n",
       "<p>907 rows × 5 columns</p>\n",
       "</div>"
      ],
      "text/plain": [
       "         0         1         2              3  4\n",
       "1    chr19    305573    306467  CTD-3113P16.5  +\n",
       "2    chr19    489176    505347        MADCAM1  +\n",
       "3    chr19    507299    519654          TPGS1  +\n",
       "4    chr19    531714    542097          CDC34  +\n",
       "5    chr19    544034    549919           GZMM  +\n",
       "..     ...       ...       ...            ... ..\n",
       "903  chr19  58962971  58969200        ZNF324B  +\n",
       "904  chr19  58978423  58984945         ZNF324  +\n",
       "905  chr19  58985384  58992597         ZNF446  +\n",
       "906  chr19  59055458  59062089         TRIM28  +\n",
       "907  chr19  59070496  59086164     AC016629.8  +\n",
       "\n",
       "[907 rows x 5 columns]"
      ]
     },
     "execution_count": 12,
     "metadata": {},
     "output_type": "execute_result"
    }
   ],
   "source": [
    "d.iloc[1:,:]"
   ]
  },
  {
   "cell_type": "code",
   "execution_count": 13,
   "metadata": {},
   "outputs": [
    {
     "data": {
      "text/plain": [
       "'../../data/chr_gene_lists/chr19.pos'"
      ]
     },
     "execution_count": 13,
     "metadata": {},
     "output_type": "execute_result"
    }
   ],
   "source": [
    "files[0]"
   ]
  },
  {
   "cell_type": "code",
   "execution_count": 14,
   "metadata": {},
   "outputs": [
    {
     "data": {
      "text/plain": [
       "74151"
      ]
     },
     "execution_count": 14,
     "metadata": {},
     "output_type": "execute_result"
    }
   ],
   "source": [
    "def count_valid_pairs(gene_file, max_dist = 5 * (10 ** 6)):\n",
    "    df = pd.read_csv(gene_file, sep='\\t', header=None)\n",
    "    m = df.shape[0]\n",
    "    valid_pairs = 0\n",
    "    for i in range(m):\n",
    "        l_end = df.iloc[i,2]\n",
    "        for j in range(i+1,m):\n",
    "            r_start = df.iloc[j,1]\n",
    "            if r_start -  l_end <= max_dist:\n",
    "                valid_pairs += 1\n",
    "    return valid_pairs\n",
    "count_valid_pairs(files[0])\n",
    "     "
   ]
  },
  {
   "cell_type": "code",
   "execution_count": 15,
   "metadata": {},
   "outputs": [],
   "source": [
    "l = list(map(count_valid_pairs,files))\n",
    "dist_cutoff = sum(l)"
   ]
  },
  {
   "cell_type": "code",
   "execution_count": 20,
   "metadata": {},
   "outputs": [
    {
     "data": {
      "text/plain": [
       "949249"
      ]
     },
     "execution_count": 20,
     "metadata": {},
     "output_type": "execute_result"
    }
   ],
   "source": [
    "dist_cutoff"
   ]
  },
  {
   "cell_type": "code",
   "execution_count": 27,
   "metadata": {},
   "outputs": [
    {
     "data": {
      "text/plain": [
       "<matplotlib.lines.Line2D at 0x7f002ca03b00>"
      ]
     },
     "execution_count": 27,
     "metadata": {},
     "output_type": "execute_result"
    },
    {
     "data": {
      "image/png": "[encoded data removed]",
      "text/plain": [
       "<Figure size 640x480 with 1 Axes>"
      ]
     },
     "metadata": {},
     "output_type": "display_data"
    }
   ],
   "source": [
    "plt.bar(['total_genes','n choose 2 comb','valid_pairs', 'less than 5MB apart'],data +[np.log10(dist_cutoff)])\n",
    "plt.axhline(y=np.log10(dist_cutoff), color='r', linestyle='-')  "
   ]
  },
  {
   "cell_type": "markdown",
   "metadata": {},
   "source": [
    "pseudo code for  chr-strand wise stix queries\n",
    "```\n",
    " open gene_file\n",
    " for shard in db:\n",
    "    for i in range(len(file)):\n",
    "        read gene_i\n",
    "        for j in range(i+1,len(file)):\n",
    "            read gene_j\n",
    "            stix(shard, gene_i, gene_j)\n",
    " aggregate\n",
    "```"
   ]
  },
  {
   "cell_type": "code",
   "execution_count": 18,
   "metadata": {},
   "outputs": [
    {
     "data": {
      "text/html": [
       "<div>\n",
       "<style scoped>\n",
       "    .dataframe tbody tr th:only-of-type {\n",
       "        vertical-align: middle;\n",
       "    }\n",
       "\n",
       "    .dataframe tbody tr th {\n",
       "        vertical-align: top;\n",
       "    }\n",
       "\n",
       "    .dataframe thead th {\n",
       "        text-align: right;\n",
       "    }\n",
       "</style>\n",
       "<table border=\"1\" class=\"dataframe\">\n",
       "  <thead>\n",
       "    <tr style=\"text-align: right;\">\n",
       "      <th></th>\n",
       "      <th>0</th>\n",
       "      <th>1</th>\n",
       "      <th>2</th>\n",
       "      <th>3</th>\n",
       "      <th>4</th>\n",
       "    </tr>\n",
       "  </thead>\n",
       "  <tbody>\n",
       "    <tr>\n",
       "      <th>0</th>\n",
       "      <td>chr21</td>\n",
       "      <td>10906201</td>\n",
       "      <td>11029719</td>\n",
       "      <td>TPTE</td>\n",
       "      <td>-</td>\n",
       "    </tr>\n",
       "    <tr>\n",
       "      <th>1</th>\n",
       "      <td>chr21</td>\n",
       "      <td>14741931</td>\n",
       "      <td>14745386</td>\n",
       "      <td>AL050302.1</td>\n",
       "      <td>-</td>\n",
       "    </tr>\n",
       "    <tr>\n",
       "      <th>2</th>\n",
       "      <td>chr21</td>\n",
       "      <td>15051621</td>\n",
       "      <td>15053459</td>\n",
       "      <td>AL050303.1</td>\n",
       "      <td>-</td>\n",
       "    </tr>\n",
       "    <tr>\n",
       "      <th>3</th>\n",
       "      <td>chr21</td>\n",
       "      <td>15481134</td>\n",
       "      <td>15583166</td>\n",
       "      <td>LIPI</td>\n",
       "      <td>-</td>\n",
       "    </tr>\n",
       "    <tr>\n",
       "      <th>4</th>\n",
       "      <td>chr21</td>\n",
       "      <td>15743436</td>\n",
       "      <td>15755805</td>\n",
       "      <td>HSPA13</td>\n",
       "      <td>-</td>\n",
       "    </tr>\n",
       "  </tbody>\n",
       "</table>\n",
       "</div>"
      ],
      "text/plain": [
       "       0         1         2           3  4\n",
       "0  chr21  10906201  11029719        TPTE  -\n",
       "1  chr21  14741931  14745386  AL050302.1  -\n",
       "2  chr21  15051621  15053459  AL050303.1  -\n",
       "3  chr21  15481134  15583166        LIPI  -\n",
       "4  chr21  15743436  15755805      HSPA13  -"
      ]
     },
     "execution_count": 18,
     "metadata": {},
     "output_type": "execute_result"
    }
   ],
   "source": [
    "chr21"
   ]
  },
  {
   "cell_type": "code",
   "execution_count": null,
   "metadata": {},
   "outputs": [
    {
     "data": {
      "text/plain": [
       "['shard_3',\n",
       " 'shard_0',\n",
       " 'shard_9',\n",
       " 'shard_6',\n",
       " 'shard_7',\n",
       " 'shard_5',\n",
       " 'shard_11',\n",
       " 'shard_10',\n",
       " 'shard_8',\n",
       " 'shard_1',\n",
       " 'shard_2',\n",
       " 'shard_4']"
      ]
     },
     "metadata": {},
     "output_type": "display_data"
    }
   ],
   "source": [
    "dir_shard = '/data/jake/genefusion/data/prostate/shards'\n",
    "os.listdir(dir_shard)"
   ]
  },
  {
   "cell_type": "code",
   "execution_count": null,
   "metadata": {},
   "outputs": [],
   "source": []
  },
  {
   "cell_type": "code",
   "execution_count": 44,
   "metadata": {},
   "outputs": [
    {
     "data": {
      "text/plain": [
       "'../data/chr_gene_lists/chrY.neg'"
      ]
     },
     "execution_count": 44,
     "metadata": {},
     "output_type": "execute_result"
    }
   ],
   "source": [
    "files[-1]"
   ]
  },
  {
   "cell_type": "code",
   "execution_count": 20,
   "metadata": {},
   "outputs": [
    {
     "name": "stdout",
     "output_type": "stream",
     "text": [
      "Pandas(Index=0, _1='chr21', _2=10906201, _3=11029719, _4='TPTE', _5='.', _6='neg')\n"
     ]
    }
   ],
   "source": [
    "for i in df.itertuples(index=True):\n",
    "    print(i.); break"
   ]
  },
  {
   "cell_type": "code",
   "execution_count": null,
   "metadata": {},
   "outputs": [],
   "source": [
    "l = [1,2,3,4,5]\n",
    "print(l)"
   ]
  },
  {
   "cell_type": "markdown",
   "metadata": {},
   "source": [
    "## Stix runner\n",
    "```\n",
    "#!/usr/bin/env bash\n",
    "# for query gene, search for gene fusions; same chr and strand\n",
    "\n",
    "# ex: stix_runner.sh > stix_runner.log 2>&1\n",
    "\n",
    "# args\n",
    "set -u\n",
    "gene_i=${1:-ERG}\n",
    "chr=${2:-21}\n",
    "l_s=${3:-39751949}\n",
    "l_e=${4:-40033704}\n",
    "gene_file=${5:-chr21.neg}\n",
    "outdir=${6:-/data/jake/gene-fusion/tmp}\n",
    "[ -d \"$outdir\" ] || { echo \"Directory '$outdir' does not exist. Exiting.\"; exit 1; }\n",
    "echo \"BEGIN\"\n",
    "date\n",
    "echo -e \"#gene: $gene_i\\tchr: $chr\\tl_s: $l_s\\tl_e: $l_e\\tgene_file: $gene_file\\toutdir: $outdir\" \n",
    "# query stix with gene_i=left and gene_j:= rows in gene bed file\n",
    "while read -r _ r_s r_e gene_j _; do\n",
    "  echo \"#gene_j: $gene_j\"\n",
    "  if [ \"$r_s\" -gt \"$l_e\" ]; then\n",
    "    # verify slop parameter\n",
    "    stix -i alt_sort_b -d 1kg.ped.db -s 500 -t DEL -l $chr:$l_s-$l_e -r $chr:$r_s-$r_e > $outdir/$gene_i.$gene_j.stix\n",
    "  else\n",
    "    echo \"#skipping $gene_j (preceeds query)\"\n",
    "  fi\n",
    "done < $gene_file\n",
    "date\n",
    "echo \"END\"\n",
    "\n",
    "# next:\n",
    "# perform query for each unique gene,chromosome,strand #!/usr/bin/env bash\n",
    "# for query gene, search for gene fusions; same chr and strand\n",
    "\n",
    "# ex: stix_runner.sh > stix_runner.log 2>&1\n",
    "\n",
    "# args\n",
    "set -u\n",
    "gene_i=${1:-ERG}\n",
    "chr=${2:-21}\n",
    "l_s=${3:-39751949}\n",
    "l_e=${4:-40033704}\n",
    "gene_file=${5:-chr21.neg}\n",
    "outdir=${6:-/data/jake/gene-fusion/tmp}\n",
    "[ -d \"$outdir\" ] || { echo \"Directory '$outdir' does not exist. Exiting.\"; exit 1; }\n",
    "echo \"BEGIN\"\n",
    "date\n",
    "echo -e \"#gene: $gene_i\\tchr: $chr\\tl_s: $l_s\\tl_e: $l_e\\tgene_file: $gene_file\\toutdir: $outdir\" \n",
    "# query stix with gene_i=left and gene_j:= rows in gene bed file\n",
    "while read -r _ r_s r_e gene_j _; do\n",
    "  echo \"#gene_j: $gene_j\"\n",
    "  if [ \"$r_s\" -gt \"$l_e\" ]; then\n",
    "    # verify slop parameter\n",
    "    stix -i alt_sort_b -d 1kg.ped.db -s 500 -t DEL -l $chr:$l_s-$l_e -r $chr:$r_s-$r_e > $outdir/$gene_i.$gene_j.stix\n",
    "  else\n",
    "    echo \"#skipping $gene_j (preceeds query)\"\n",
    "  fi\n",
    "done < $gene_file\n",
    "date\n",
    "echo \"END\"\n",
    "\n",
    "# next:\n",
    "# perform query for each unique gene,chromosome,strand \n",
    "```"
   ]
  },
  {
   "cell_type": "code",
   "execution_count": 4,
   "metadata": {},
   "outputs": [
    {
     "data": {
      "text/html": [
       "<div>\n",
       "<style scoped>\n",
       "    .dataframe tbody tr th:only-of-type {\n",
       "        vertical-align: middle;\n",
       "    }\n",
       "\n",
       "    .dataframe tbody tr th {\n",
       "        vertical-align: top;\n",
       "    }\n",
       "\n",
       "    .dataframe thead th {\n",
       "        text-align: right;\n",
       "    }\n",
       "</style>\n",
       "<table border=\"1\" class=\"dataframe\">\n",
       "  <thead>\n",
       "    <tr style=\"text-align: right;\">\n",
       "      <th></th>\n",
       "      <th>samples</th>\n",
       "    </tr>\n",
       "  </thead>\n",
       "  <tbody>\n",
       "    <tr>\n",
       "      <th>0</th>\n",
       "      <td>0</td>\n",
       "    </tr>\n",
       "    <tr>\n",
       "      <th>1</th>\n",
       "      <td>1</td>\n",
       "    </tr>\n",
       "    <tr>\n",
       "      <th>2</th>\n",
       "      <td>2</td>\n",
       "    </tr>\n",
       "    <tr>\n",
       "      <th>3</th>\n",
       "      <td>3</td>\n",
       "    </tr>\n",
       "    <tr>\n",
       "      <th>4</th>\n",
       "      <td>4</td>\n",
       "    </tr>\n",
       "    <tr>\n",
       "      <th>...</th>\n",
       "      <td>...</td>\n",
       "    </tr>\n",
       "    <tr>\n",
       "      <th>95</th>\n",
       "      <td>95</td>\n",
       "    </tr>\n",
       "    <tr>\n",
       "      <th>96</th>\n",
       "      <td>96</td>\n",
       "    </tr>\n",
       "    <tr>\n",
       "      <th>97</th>\n",
       "      <td>97</td>\n",
       "    </tr>\n",
       "    <tr>\n",
       "      <th>98</th>\n",
       "      <td>98</td>\n",
       "    </tr>\n",
       "    <tr>\n",
       "      <th>99</th>\n",
       "      <td>99</td>\n",
       "    </tr>\n",
       "  </tbody>\n",
       "</table>\n",
       "<p>100 rows × 1 columns</p>\n",
       "</div>"
      ],
      "text/plain": [
       "    samples\n",
       "0         0\n",
       "1         1\n",
       "2         2\n",
       "3         3\n",
       "4         4\n",
       "..      ...\n",
       "95       95\n",
       "96       96\n",
       "97       97\n",
       "98       98\n",
       "99       99\n",
       "\n",
       "[100 rows x 1 columns]"
      ]
     },
     "execution_count": 4,
     "metadata": {},
     "output_type": "execute_result"
    }
   ],
   "source": [
    "# aggregation pseudo code\n",
    "def agg_gene_fusion(samples, gene_list,pop_label=None):\n",
    "    A = pd.DataFrame({'samples': range(100)})\n",
    "    c = range(23)\n",
    "    # chr\n",
    "    for i in c:\n",
    "        n = len(gene_list)\n",
    "        # gene_left\n",
    "        for j in range(n):\n",
    "            strand_j = gene_list[j][3]\n",
    "            # gene right\n",
    "            for k in range(j+1,n):\n",
    "                strand_k = gene_list[k][3]\n",
    "                if strand_j == strand_k:\n",
    "                    # stix data\n",
    "                    df = STIX(i, l , r)\n",
    "                    # sample\n",
    "                    for l in range(samples):\n",
    "                        if df.evidence[l] > 0:\n",
    "                            A[l,g_i] = df.evidence\n",
    "               \n",
    "            "
   ]
  }
 ],
 "metadata": {
  "kernelspec": {
   "display_name": "Python 3 (ipykernel)",
   "language": "python",
   "name": "python3"
  },
  "language_info": {
   "codemirror_mode": {
    "name": "ipython",
    "version": 3
   },
   "file_extension": ".py",
   "mimetype": "text/x-python",
   "name": "python",
   "nbconvert_exporter": "python",
   "pygments_lexer": "ipython3",
   "version": "3.12.2"
  }
 },
 "nbformat": 4,
 "nbformat_minor": 2
}
