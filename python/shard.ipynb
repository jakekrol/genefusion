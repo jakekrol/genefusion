{
 "cells": [
  {
   "cell_type": "code",
   "execution_count": 20,
   "metadata": {},
   "outputs": [
    {
     "name": "stdout",
     "output_type": "stream",
     "text": [
      "35\n"
     ]
    }
   ],
   "source": [
    "import pandas as pd\n",
    "import numpy as np\n",
    "import os,sys\n",
    "import itertools\n",
    "import json\n",
    "import shutil\n",
    "import multiprocessing as mp\n",
    "from multiprocessing import Pool\n",
    "cpus = int(np.floor((mp.cpu_count()-1) /2))\n",
    "print(cpus)"
   ]
  },
  {
   "cell_type": "code",
   "execution_count": 2,
   "metadata": {},
   "outputs": [],
   "source": [
    "os.chdir('/data/jake/gene-fusion/python')"
   ]
  },
  {
   "cell_type": "markdown",
   "metadata": {},
   "source": [
    "Tumour sample filtered ped file. Processed from `prostate_stix_ped.ipynb`"
   ]
  },
  {
   "cell_type": "code",
   "execution_count": 8,
   "metadata": {},
   "outputs": [
    {
     "name": "stdout",
     "output_type": "stream",
     "text": [
      "(142, 20)\n"
     ]
    },
    {
     "data": {
      "text/html": [
       "<div>\n",
       "<style scoped>\n",
       "    .dataframe tbody tr th:only-of-type {\n",
       "        vertical-align: middle;\n",
       "    }\n",
       "\n",
       "    .dataframe tbody tr th {\n",
       "        vertical-align: top;\n",
       "    }\n",
       "\n",
       "    .dataframe thead th {\n",
       "        text-align: right;\n",
       "    }\n",
       "</style>\n",
       "<table border=\"1\" class=\"dataframe\">\n",
       "  <thead>\n",
       "    <tr style=\"text-align: right;\">\n",
       "      <th></th>\n",
       "      <th>sample</th>\n",
       "      <th>alt_file</th>\n",
       "      <th>objectid</th>\n",
       "      <th>file_name</th>\n",
       "      <th>icgc_donor</th>\n",
       "      <th>icgc_specimen_id</th>\n",
       "      <th>specimen_type</th>\n",
       "      <th>icgc_sample_id</th>\n",
       "      <th>project</th>\n",
       "      <th>study</th>\n",
       "      <th>data_type</th>\n",
       "      <th>experimental_strategy</th>\n",
       "      <th>format</th>\n",
       "      <th>analysisid</th>\n",
       "      <th>ega_dataset_id</th>\n",
       "      <th>ega_analysis_id</th>\n",
       "      <th>ega_file_id</th>\n",
       "      <th>pcawg</th>\n",
       "      <th>location</th>\n",
       "      <th>label</th>\n",
       "    </tr>\n",
       "  </thead>\n",
       "  <tbody>\n",
       "    <tr>\n",
       "      <th>0</th>\n",
       "      <td>FI10093</td>\n",
       "      <td>FI10093.excord.bed.gz</td>\n",
       "      <td>c1b0f8bd-b2ad-5d03-84cd-942971bf193a</td>\n",
       "      <td>3bcb0039e46a4ca217d29b0c77a1ef7e.bam</td>\n",
       "      <td>DO51133</td>\n",
       "      <td>SP112953</td>\n",
       "      <td>Primary tumour - solid tissue</td>\n",
       "      <td>SA530604</td>\n",
       "      <td>PRAD-CA</td>\n",
       "      <td>PCAWG</td>\n",
       "      <td>BAM</td>\n",
       "      <td>WGS</td>\n",
       "      <td>BAM</td>\n",
       "      <td>b513c61d-ff71-4ddc-9888-1a406942069e</td>\n",
       "      <td>EGAD00001002128</td>\n",
       "      <td>EGAZ00001225228</td>\n",
       "      <td>EGAF00001162820</td>\n",
       "      <td>whitelist</td>\n",
       "      <td>EGA</td>\n",
       "      <td>cancer</td>\n",
       "    </tr>\n",
       "    <tr>\n",
       "      <th>1</th>\n",
       "      <td>FI10766</td>\n",
       "      <td>FI10766.excord.bed.gz</td>\n",
       "      <td>c2ec5d59-5ead-5792-aacb-80078ceff799</td>\n",
       "      <td>7a0090e6dabe350ecc19afb773d430e7.bam</td>\n",
       "      <td>DO51136</td>\n",
       "      <td>SP112959</td>\n",
       "      <td>Primary tumour - solid tissue</td>\n",
       "      <td>SA530610</td>\n",
       "      <td>PRAD-CA</td>\n",
       "      <td>PCAWG</td>\n",
       "      <td>BAM</td>\n",
       "      <td>WGS</td>\n",
       "      <td>BAM</td>\n",
       "      <td>b9b072b8-59fd-4d39-a538-03c05b907584</td>\n",
       "      <td>EGAD00001002128</td>\n",
       "      <td>EGAZ00001225318</td>\n",
       "      <td>EGAF00001163090</td>\n",
       "      <td>whitelist</td>\n",
       "      <td>EGA</td>\n",
       "      <td>cancer</td>\n",
       "    </tr>\n",
       "    <tr>\n",
       "      <th>2</th>\n",
       "      <td>FI10784</td>\n",
       "      <td>FI10784.excord.bed.gz</td>\n",
       "      <td>fb4faccb-cbcd-5706-bb5a-a8180c7f22bd</td>\n",
       "      <td>2238ab07083b519abceb375f12d7f5f9.bam</td>\n",
       "      <td>DO51067</td>\n",
       "      <td>SP112821</td>\n",
       "      <td>Primary tumour - solid tissue</td>\n",
       "      <td>SA530479</td>\n",
       "      <td>PRAD-CA</td>\n",
       "      <td>PCAWG</td>\n",
       "      <td>BAM</td>\n",
       "      <td>WGS</td>\n",
       "      <td>BAM</td>\n",
       "      <td>e2dd4dfe-980c-4587-bde6-7e9f466d5848</td>\n",
       "      <td>EGAD00001002128</td>\n",
       "      <td>EGAZ00001223260</td>\n",
       "      <td>EGAF00001084921</td>\n",
       "      <td>whitelist</td>\n",
       "      <td>EGA</td>\n",
       "      <td>cancer</td>\n",
       "    </tr>\n",
       "    <tr>\n",
       "      <th>3</th>\n",
       "      <td>FI11979</td>\n",
       "      <td>FI11979.excord.bed.gz</td>\n",
       "      <td>fd22f0c2-d50f-551c-9b11-5496df8a56ef</td>\n",
       "      <td>1c2dad03e47d34118d63bf4cb89d97a4.bam</td>\n",
       "      <td>DO51142</td>\n",
       "      <td>SP112971</td>\n",
       "      <td>Primary tumour - solid tissue</td>\n",
       "      <td>SA530622</td>\n",
       "      <td>PRAD-CA</td>\n",
       "      <td>PCAWG</td>\n",
       "      <td>BAM</td>\n",
       "      <td>WGS</td>\n",
       "      <td>BAM</td>\n",
       "      <td>2b5fe918-e0f8-4c1f-8024-ddcd55557b8d</td>\n",
       "      <td>EGAD00001002128</td>\n",
       "      <td>EGAZ00001225221</td>\n",
       "      <td>EGAF00001162799</td>\n",
       "      <td>whitelist</td>\n",
       "      <td>EGA</td>\n",
       "      <td>cancer</td>\n",
       "    </tr>\n",
       "    <tr>\n",
       "      <th>4</th>\n",
       "      <td>FI12251</td>\n",
       "      <td>FI12251.excord.bed.gz</td>\n",
       "      <td>33623629-be74-5373-8457-0e43f805b935</td>\n",
       "      <td>f1c61be3f2beb330e3aa731d8c325ecb.bam</td>\n",
       "      <td>DO51159</td>\n",
       "      <td>SP113005</td>\n",
       "      <td>Primary tumour - solid tissue</td>\n",
       "      <td>SA530656</td>\n",
       "      <td>PRAD-CA</td>\n",
       "      <td>PCAWG</td>\n",
       "      <td>BAM</td>\n",
       "      <td>WGS</td>\n",
       "      <td>BAM</td>\n",
       "      <td>64e6a38c-cf95-4264-b039-99a34dfe3d1a</td>\n",
       "      <td>EGAD00001002128</td>\n",
       "      <td>EGAZ00001225184</td>\n",
       "      <td>EGAF00001160759</td>\n",
       "      <td>whitelist</td>\n",
       "      <td>EGA</td>\n",
       "      <td>cancer</td>\n",
       "    </tr>\n",
       "  </tbody>\n",
       "</table>\n",
       "</div>"
      ],
      "text/plain": [
       "    sample               alt_file                              objectid  \\\n",
       "0  FI10093  FI10093.excord.bed.gz  c1b0f8bd-b2ad-5d03-84cd-942971bf193a   \n",
       "1  FI10766  FI10766.excord.bed.gz  c2ec5d59-5ead-5792-aacb-80078ceff799   \n",
       "2  FI10784  FI10784.excord.bed.gz  fb4faccb-cbcd-5706-bb5a-a8180c7f22bd   \n",
       "3  FI11979  FI11979.excord.bed.gz  fd22f0c2-d50f-551c-9b11-5496df8a56ef   \n",
       "4  FI12251  FI12251.excord.bed.gz  33623629-be74-5373-8457-0e43f805b935   \n",
       "\n",
       "                              file_name icgc_donor icgc_specimen_id  \\\n",
       "0  3bcb0039e46a4ca217d29b0c77a1ef7e.bam    DO51133         SP112953   \n",
       "1  7a0090e6dabe350ecc19afb773d430e7.bam    DO51136         SP112959   \n",
       "2  2238ab07083b519abceb375f12d7f5f9.bam    DO51067         SP112821   \n",
       "3  1c2dad03e47d34118d63bf4cb89d97a4.bam    DO51142         SP112971   \n",
       "4  f1c61be3f2beb330e3aa731d8c325ecb.bam    DO51159         SP113005   \n",
       "\n",
       "                   specimen_type icgc_sample_id  project  study data_type  \\\n",
       "0  Primary tumour - solid tissue       SA530604  PRAD-CA  PCAWG       BAM   \n",
       "1  Primary tumour - solid tissue       SA530610  PRAD-CA  PCAWG       BAM   \n",
       "2  Primary tumour - solid tissue       SA530479  PRAD-CA  PCAWG       BAM   \n",
       "3  Primary tumour - solid tissue       SA530622  PRAD-CA  PCAWG       BAM   \n",
       "4  Primary tumour - solid tissue       SA530656  PRAD-CA  PCAWG       BAM   \n",
       "\n",
       "  experimental_strategy format                            analysisid  \\\n",
       "0                   WGS    BAM  b513c61d-ff71-4ddc-9888-1a406942069e   \n",
       "1                   WGS    BAM  b9b072b8-59fd-4d39-a538-03c05b907584   \n",
       "2                   WGS    BAM  e2dd4dfe-980c-4587-bde6-7e9f466d5848   \n",
       "3                   WGS    BAM  2b5fe918-e0f8-4c1f-8024-ddcd55557b8d   \n",
       "4                   WGS    BAM  64e6a38c-cf95-4264-b039-99a34dfe3d1a   \n",
       "\n",
       "    ega_dataset_id  ega_analysis_id      ega_file_id      pcawg location  \\\n",
       "0  EGAD00001002128  EGAZ00001225228  EGAF00001162820  whitelist      EGA   \n",
       "1  EGAD00001002128  EGAZ00001225318  EGAF00001163090  whitelist      EGA   \n",
       "2  EGAD00001002128  EGAZ00001223260  EGAF00001084921  whitelist      EGA   \n",
       "3  EGAD00001002128  EGAZ00001225221  EGAF00001162799  whitelist      EGA   \n",
       "4  EGAD00001002128  EGAZ00001225184  EGAF00001160759  whitelist      EGA   \n",
       "\n",
       "    label  \n",
       "0  cancer  \n",
       "1  cancer  \n",
       "2  cancer  \n",
       "3  cancer  \n",
       "4  cancer  "
      ]
     },
     "execution_count": 8,
     "metadata": {},
     "output_type": "execute_result"
    }
   ],
   "source": [
    "df = pd.read_csv('../data/meta/icgc-GRCh37-prostate_cancer.ped',sep='\\t').sort_values('sample').reset_index(drop=True)\n",
    "print(df.shape)\n",
    "df.head()"
   ]
  },
  {
   "cell_type": "code",
   "execution_count": 10,
   "metadata": {},
   "outputs": [
    {
     "data": {
      "text/plain": [
       "specimen_type\n",
       "Primary tumour - solid tissue                         107\n",
       "Metastatic tumour - metastasis to distant location     20\n",
       "Metastatic tumour - lymph node                         15\n",
       "Name: count, dtype: int64"
      ]
     },
     "execution_count": 10,
     "metadata": {},
     "output_type": "execute_result"
    }
   ],
   "source": [
    "df.specimen_type.value_counts()"
   ]
  },
  {
   "cell_type": "code",
   "execution_count": 13,
   "metadata": {},
   "outputs": [
    {
     "data": {
      "text/plain": [
       "[array(['FI10093.excord.bed.gz', 'FI10766.excord.bed.gz',\n",
       "        'FI10784.excord.bed.gz', 'FI11979.excord.bed.gz',\n",
       "        'FI12251.excord.bed.gz', 'FI12844.excord.bed.gz',\n",
       "        'FI12977.excord.bed.gz', 'FI13089.excord.bed.gz',\n",
       "        'FI13504.excord.bed.gz', 'FI14823.excord.bed.gz',\n",
       "        'FI14824.excord.bed.gz', 'FI15561.excord.bed.gz'], dtype='<U22'),\n",
       " array(['FI16501.excord.bed.gz', 'FI16518.excord.bed.gz',\n",
       "        'FI16535.excord.bed.gz', 'FI16552.excord.bed.gz',\n",
       "        'FI18299.excord.bed.gz', 'FI19096.excord.bed.gz',\n",
       "        'FI19114.excord.bed.gz', 'FI2021.excord.bed.gz',\n",
       "        'FI2039.excord.bed.gz', 'FI21896.excord.bed.gz',\n",
       "        'FI22097.excord.bed.gz', 'FI22421.excord.bed.gz'], dtype='<U22')]"
      ]
     },
     "execution_count": 13,
     "metadata": {},
     "output_type": "execute_result"
    }
   ],
   "source": [
    "k=12\n",
    "shards = np.array_split(df['alt_file'].to_list(),k)\n",
    "shards[0:2]"
   ]
  },
  {
   "cell_type": "code",
   "execution_count": 25,
   "metadata": {},
   "outputs": [],
   "source": [
    "# shard files\n",
    "dir_prostate='/data/jake/gene-fusion/data/prostate'\n",
    "shard_meta = { i: k.tolist() for i,k in enumerate(shards)}\n",
    "with open(os.path.join(dir_prostate, 'shard.json'), 'w') as f:\n",
    "    json.dump(shard_meta, f, indent=4)"
   ]
  },
  {
   "cell_type": "code",
   "execution_count": 26,
   "metadata": {},
   "outputs": [],
   "source": [
    "prefix_src='/data/jake/gene-fusion/data/cancer_data/prostate/prostate_sort'\n",
    "#dir_cp='/data/jake/gene-fusion/data/prostate/copies'\n",
    "dir_shards='/data/jake/gene-fusion/data/prostate/shards'\n",
    "# top-level\n",
    "#if not os.path.exists(dir_cp):\n",
    "    #os.mkdir(dir_cp)\n",
    "if not os.path.exists(dir_shards):\n",
    "    os.mkdir(dir_shards)\n",
    "# copies\n",
    "for i in range(k):\n",
    "    d_shard = os.path.join(dir_shards,f'shard_{i}')\n",
    "    d_beds = os.path.join(d_shard,'beds')\n",
    "    if not os.path.exists(d_shard):\n",
    "        os.mkdir(d_shard)\n",
    "    if not os.path.exists(d_beds):\n",
    "        os.mkdir(d_beds)"
   ]
  },
  {
   "cell_type": "code",
   "execution_count": 27,
   "metadata": {},
   "outputs": [],
   "source": [
    "data = []\n",
    "for shard in shard_meta.keys():\n",
    "    for file in shard_meta[shard]:\n",
    "        src = os.path.join(prefix_src, file)\n",
    "        dst = os.path.join(dir_shards, f'shard_{shard}', 'beds', file)\n",
    "        data.append((src,dst))\n",
    "        #print(src, dst)\n",
    "        # if not os.path.exists(dst):\n",
    "        #     shutil.copy(src, dst)\n"
   ]
  },
  {
   "cell_type": "code",
   "execution_count": 29,
   "metadata": {},
   "outputs": [],
   "source": [
    "with Pool(processes=cpus) as pool:\n",
    "        results = pool.starmap(shutil.copy, data)"
   ]
  }
 ],
 "metadata": {
  "kernelspec": {
   "display_name": "Python 3 (ipykernel)",
   "language": "python",
   "name": "python3"
  },
  "language_info": {
   "codemirror_mode": {
    "name": "ipython",
    "version": 3
   },
   "file_extension": ".py",
   "mimetype": "text/x-python",
   "name": "python",
   "nbconvert_exporter": "python",
   "pygments_lexer": "ipython3",
   "version": "3.12.2"
  }
 },
 "nbformat": 4,
 "nbformat_minor": 2
}
