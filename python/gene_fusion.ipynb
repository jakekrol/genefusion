{
 "cells": [
  {
   "cell_type": "code",
   "execution_count": 52,
   "metadata": {},
   "outputs": [
    {
     "name": "stdout",
     "output_type": "stream",
     "text": [
      "35\n"
     ]
    }
   ],
   "source": [
    "import pandas as pd\n",
    "import os,sys\n",
    "import numpy as np\n",
    "import multiprocessing as mp\n",
    "import matplotlib.pyplot as plt\n",
    "cpus = int(np.floor(mp.cpu_count()/2)-1)\n",
    "print(cpus)\n",
    "\n",
    "os.chdir('/data/jake/gene-fusion/python')"
   ]
  },
  {
   "cell_type": "markdown",
   "metadata": {},
   "source": [
    "## GRCh37 Gene list\n",
    "\n",
    "Genes were partitioned by chr-strand with ipython"
   ]
  },
  {
   "cell_type": "code",
   "execution_count": 36,
   "metadata": {},
   "outputs": [
    {
     "data": {
      "text/html": [
       "<div>\n",
       "<style scoped>\n",
       "    .dataframe tbody tr th:only-of-type {\n",
       "        vertical-align: middle;\n",
       "    }\n",
       "\n",
       "    .dataframe tbody tr th {\n",
       "        vertical-align: top;\n",
       "    }\n",
       "\n",
       "    .dataframe thead th {\n",
       "        text-align: right;\n",
       "    }\n",
       "</style>\n",
       "<table border=\"1\" class=\"dataframe\">\n",
       "  <thead>\n",
       "    <tr style=\"text-align: right;\">\n",
       "      <th></th>\n",
       "      <th>chr</th>\n",
       "      <th>start</th>\n",
       "      <th>end</th>\n",
       "      <th>gene</th>\n",
       "      <th>strand</th>\n",
       "    </tr>\n",
       "  </thead>\n",
       "  <tbody>\n",
       "    <tr>\n",
       "      <th>0</th>\n",
       "      <td>chr1</td>\n",
       "      <td>69091</td>\n",
       "      <td>70008</td>\n",
       "      <td>OR4F5</td>\n",
       "      <td>+</td>\n",
       "    </tr>\n",
       "    <tr>\n",
       "      <th>1</th>\n",
       "      <td>chr1</td>\n",
       "      <td>134901</td>\n",
       "      <td>139379</td>\n",
       "      <td>AL627309.1</td>\n",
       "      <td>-</td>\n",
       "    </tr>\n",
       "    <tr>\n",
       "      <th>2</th>\n",
       "      <td>chr1</td>\n",
       "      <td>139790</td>\n",
       "      <td>140339</td>\n",
       "      <td>RP11-34P13.14</td>\n",
       "      <td>-</td>\n",
       "    </tr>\n",
       "    <tr>\n",
       "      <th>3</th>\n",
       "      <td>chr1</td>\n",
       "      <td>367640</td>\n",
       "      <td>368634</td>\n",
       "      <td>OR4F29</td>\n",
       "      <td>+</td>\n",
       "    </tr>\n",
       "    <tr>\n",
       "      <th>4</th>\n",
       "      <td>chr1</td>\n",
       "      <td>621059</td>\n",
       "      <td>622053</td>\n",
       "      <td>OR4F16</td>\n",
       "      <td>-</td>\n",
       "    </tr>\n",
       "  </tbody>\n",
       "</table>\n",
       "</div>"
      ],
      "text/plain": [
       "    chr   start     end           gene strand\n",
       "0  chr1   69091   70008          OR4F5      +\n",
       "1  chr1  134901  139379     AL627309.1      -\n",
       "2  chr1  139790  140339  RP11-34P13.14      -\n",
       "3  chr1  367640  368634         OR4F29      +\n",
       "4  chr1  621059  622053         OR4F16      -"
      ]
     },
     "execution_count": 36,
     "metadata": {},
     "output_type": "execute_result"
    }
   ],
   "source": [
    "# full file\n",
    "df = pd.read_csv('../data/Homo_sapiens.GRCh37.82.chr.genes.bed',sep='\\t',header=None)\n",
    "## drop '.' column\n",
    "df = df.drop(df.columns[4],axis=1)\n",
    "df.columns = df.columns = ['chr', 'start', 'end', 'gene', 'strand']\n",
    "df.head()"
   ]
  },
  {
   "cell_type": "code",
   "execution_count": 37,
   "metadata": {},
   "outputs": [
    {
     "name": "stdout",
     "output_type": "stream",
     "text": [
      "before: ['chr1' 'chr10' 'chr11' 'chr12' 'chr13' 'chr14' 'chr15' 'chr16' 'chr17'\n",
      " 'chr18' 'chr19' 'chr2' 'chr20' 'chr21' 'chr22' 'chr3' 'chr4' 'chr5'\n",
      " 'chr6' 'chr7' 'chr8' 'chr9' 'chrGL000191.1' 'chrGL000192.1'\n",
      " 'chrGL000193.1' 'chrGL000194.1' 'chrGL000195.1' 'chrGL000201.1'\n",
      " 'chrGL000204.1' 'chrGL000205.1' 'chrGL000209.1' 'chrGL000212.1'\n",
      " 'chrGL000213.1' 'chrGL000215.1' 'chrGL000218.1' 'chrGL000219.1'\n",
      " 'chrGL000221.1' 'chrGL000222.1' 'chrGL000223.1' 'chrGL000228.1'\n",
      " 'chrGL000237.1' 'chrGL000242.1' 'chrMT' 'chrX' 'chrY']\n",
      "after: ['chr1' 'chr10' 'chr11' 'chr12' 'chr13' 'chr14' 'chr15' 'chr16' 'chr17'\n",
      " 'chr18' 'chr19' 'chr2' 'chr20' 'chr21' 'chr22' 'chr3' 'chr4' 'chr5'\n",
      " 'chr6' 'chr7' 'chr8' 'chr9' 'chrX' 'chrY']\n"
     ]
    }
   ],
   "source": [
    "# exclude special chr\n",
    "print('before:',df.chr.unique())\n",
    "df = df[df['chr'].str.contains('chr\\\\d|chrX|chrY', regex=True)]\n",
    "print('after:',df.chr.unique())"
   ]
  },
  {
   "cell_type": "code",
   "execution_count": 38,
   "metadata": {},
   "outputs": [],
   "source": [
    "dir_chr_gene_lists='../data/chr_gene_lists'\n",
    "groups = [group for _,group in df.groupby(['chr','strand'])]\n",
    "for d in groups:\n",
    "    fname = f\"{d['chr'].unique()[0]}.{d['strand'].apply(lambda x: 'pos' if x == '+' else 'neg').unique()[0]}\"\n",
    "    d.to_csv(os.path.join(dir_chr_gene_lists,fname),sep='\\t',header=False, index=False)\n"
   ]
  },
  {
   "cell_type": "code",
   "execution_count": 59,
   "metadata": {},
   "outputs": [
    {
     "data": {
      "text/html": [
       "<div>\n",
       "<style scoped>\n",
       "    .dataframe tbody tr th:only-of-type {\n",
       "        vertical-align: middle;\n",
       "    }\n",
       "\n",
       "    .dataframe tbody tr th {\n",
       "        vertical-align: top;\n",
       "    }\n",
       "\n",
       "    .dataframe thead th {\n",
       "        text-align: right;\n",
       "    }\n",
       "</style>\n",
       "<table border=\"1\" class=\"dataframe\">\n",
       "  <thead>\n",
       "    <tr style=\"text-align: right;\">\n",
       "      <th></th>\n",
       "      <th>0</th>\n",
       "      <th>1</th>\n",
       "      <th>2</th>\n",
       "      <th>3</th>\n",
       "      <th>4</th>\n",
       "    </tr>\n",
       "  </thead>\n",
       "  <tbody>\n",
       "    <tr>\n",
       "      <th>0</th>\n",
       "      <td>chr21</td>\n",
       "      <td>10906201</td>\n",
       "      <td>11029719</td>\n",
       "      <td>TPTE</td>\n",
       "      <td>-</td>\n",
       "    </tr>\n",
       "    <tr>\n",
       "      <th>1</th>\n",
       "      <td>chr21</td>\n",
       "      <td>14741931</td>\n",
       "      <td>14745386</td>\n",
       "      <td>AL050302.1</td>\n",
       "      <td>-</td>\n",
       "    </tr>\n",
       "    <tr>\n",
       "      <th>2</th>\n",
       "      <td>chr21</td>\n",
       "      <td>15051621</td>\n",
       "      <td>15053459</td>\n",
       "      <td>AL050303.1</td>\n",
       "      <td>-</td>\n",
       "    </tr>\n",
       "    <tr>\n",
       "      <th>3</th>\n",
       "      <td>chr21</td>\n",
       "      <td>15481134</td>\n",
       "      <td>15583166</td>\n",
       "      <td>LIPI</td>\n",
       "      <td>-</td>\n",
       "    </tr>\n",
       "    <tr>\n",
       "      <th>4</th>\n",
       "      <td>chr21</td>\n",
       "      <td>15743436</td>\n",
       "      <td>15755805</td>\n",
       "      <td>HSPA13</td>\n",
       "      <td>-</td>\n",
       "    </tr>\n",
       "  </tbody>\n",
       "</table>\n",
       "</div>"
      ],
      "text/plain": [
       "       0         1         2           3  4\n",
       "0  chr21  10906201  11029719        TPTE  -\n",
       "1  chr21  14741931  14745386  AL050302.1  -\n",
       "2  chr21  15051621  15053459  AL050303.1  -\n",
       "3  chr21  15481134  15583166        LIPI  -\n",
       "4  chr21  15743436  15755805      HSPA13  -"
      ]
     },
     "execution_count": 59,
     "metadata": {},
     "output_type": "execute_result"
    }
   ],
   "source": [
    "chr21 = pd.read_csv(os.path.join(dir_chr_gene_lists,'chr21.neg'),sep='\\t',header=None).head()\n",
    "chr21.head()"
   ]
  },
  {
   "cell_type": "markdown",
   "metadata": {},
   "source": [
    "## Count valid gene pairs\n"
   ]
  },
  {
   "cell_type": "markdown",
   "metadata": {},
   "source": [
    "- Beds are left sorted.\n",
    "- The first gene has n-1 pairs\n",
    "- The next gene has n-2 pairs\n",
    "- ...\n",
    "- The last gene has 0 pairs\n",
    "\n",
    " $\\sum_{k=1}^{n} = \\frac{n(n+1)}{2}$ so $\\sum_{k=0}^{n-1}k = \\frac{(n-1)((n-1)+1)}{2} = \\frac{(n-1)n}{2}$."
   ]
  },
  {
   "cell_type": "code",
   "execution_count": 51,
   "metadata": {},
   "outputs": [
    {
     "name": "stdout",
     "output_type": "stream",
     "text": [
      "total_genes (m): 26954\n",
      "m^2: 726518116\n",
      "valid pairs: 9397382.0\n"
     ]
    }
   ],
   "source": [
    "pairs = 0\n",
    "total_genes = 0\n",
    "files = [os.path.join(dir_chr_gene_lists,f) for f in os.listdir(dir_chr_gene_lists)]\n",
    "for file in files:\n",
    "    with open(file, 'r') as f:\n",
    "        n = sum(1 for line in f)\n",
    "        pairs += (((n-1) * n) /2)\n",
    "        total_genes += n\n",
    "print('total_genes (m):',total_genes)\n",
    "print('m^2:',total_genes**2)\n",
    "print('valid pairs:',pairs)\n"
   ]
  },
  {
   "cell_type": "code",
   "execution_count": 58,
   "metadata": {},
   "outputs": [
    {
     "data": {
      "text/plain": [
       "Text(0, 0.5, 'log10')"
      ]
     },
     "execution_count": 58,
     "metadata": {},
     "output_type": "execute_result"
    },
    {
     "data": {
      "image/png": "[encoded data removed]",
      "text/plain": [
       "<Figure size 640x480 with 1 Axes>"
      ]
     },
     "metadata": {},
     "output_type": "display_data"
    }
   ],
   "source": [
    "data = [np.log10(x) for x in [total_genes,total_genes**2,pairs]]\n",
    "plt.bar(['total_genes','m^2','valid_pairs'],data)\n",
    "plt.ylabel('log10')"
   ]
  },
  {
   "cell_type": "markdown",
   "metadata": {},
   "source": [
    "## STIX\n",
    "\n",
    "Will run this in singularity container. Not in notebook"
   ]
  },
  {
   "cell_type": "code",
   "execution_count": null,
   "metadata": {},
   "outputs": [],
   "source": [
    "#stix -i index -d stix.ped.db -t DEL -l $left -r $right -s 500 > out.stix\n",
    "def stix(index, db, chr, type, left_start, left_end, right_start, right_end, outfile):\n",
    "    cmd = f\"stix -i {index} -d {db} -t {type} -l {chr}:{left_start}-{left_end} -r {chr}:{right_start}-{right_end} > {outfile}\"\n",
    "    print(cmd)\n",
    "    os.system(cmd)"
   ]
  },
  {
   "cell_type": "markdown",
   "metadata": {},
   "source": [
    "pseudo code for  chr-strand wise stix queries\n",
    "```\n",
    " open gene_file\n",
    " for shard in db:\n",
    "    for i in range(len(file)):\n",
    "        read gene_i\n",
    "        for j in range(i+1,len(file)):\n",
    "            read gene_j\n",
    "            stix(shard, gene_i, gene_j)\n",
    " aggregate\n",
    "```"
   ]
  },
  {
   "cell_type": "markdown",
   "metadata": {},
   "source": [
    "    \n",
    "# \n",
    "while read -r _ r_s r_e gene_j _; do\n",
    "  echo \"#gene_j: $gene_j\"\n",
    "  if [ \"$r_s\" -gt \"$l_e\" ]; then\n",
    "    # verify slop parameter\n",
    "    stix -i alt_sort_b -d 1kg.ped.db -s 500 -t DEL -l $chr:$l_s-$l_e -r $chr:$r_s-$r_e > $outdir/$gene_i.$gene_j.stix\n",
    "  else\n",
    "    echo \"#skipping $gene_j (preceeds query)\"\n",
    "  fi\n",
    "done < $gene_file"
   ]
  },
  {
   "cell_type": "code",
   "execution_count": 60,
   "metadata": {},
   "outputs": [
    {
     "data": {
      "text/html": [
       "<div>\n",
       "<style scoped>\n",
       "    .dataframe tbody tr th:only-of-type {\n",
       "        vertical-align: middle;\n",
       "    }\n",
       "\n",
       "    .dataframe tbody tr th {\n",
       "        vertical-align: top;\n",
       "    }\n",
       "\n",
       "    .dataframe thead th {\n",
       "        text-align: right;\n",
       "    }\n",
       "</style>\n",
       "<table border=\"1\" class=\"dataframe\">\n",
       "  <thead>\n",
       "    <tr style=\"text-align: right;\">\n",
       "      <th></th>\n",
       "      <th>0</th>\n",
       "      <th>1</th>\n",
       "      <th>2</th>\n",
       "      <th>3</th>\n",
       "      <th>4</th>\n",
       "    </tr>\n",
       "  </thead>\n",
       "  <tbody>\n",
       "    <tr>\n",
       "      <th>0</th>\n",
       "      <td>chr21</td>\n",
       "      <td>10906201</td>\n",
       "      <td>11029719</td>\n",
       "      <td>TPTE</td>\n",
       "      <td>-</td>\n",
       "    </tr>\n",
       "    <tr>\n",
       "      <th>1</th>\n",
       "      <td>chr21</td>\n",
       "      <td>14741931</td>\n",
       "      <td>14745386</td>\n",
       "      <td>AL050302.1</td>\n",
       "      <td>-</td>\n",
       "    </tr>\n",
       "    <tr>\n",
       "      <th>2</th>\n",
       "      <td>chr21</td>\n",
       "      <td>15051621</td>\n",
       "      <td>15053459</td>\n",
       "      <td>AL050303.1</td>\n",
       "      <td>-</td>\n",
       "    </tr>\n",
       "    <tr>\n",
       "      <th>3</th>\n",
       "      <td>chr21</td>\n",
       "      <td>15481134</td>\n",
       "      <td>15583166</td>\n",
       "      <td>LIPI</td>\n",
       "      <td>-</td>\n",
       "    </tr>\n",
       "    <tr>\n",
       "      <th>4</th>\n",
       "      <td>chr21</td>\n",
       "      <td>15743436</td>\n",
       "      <td>15755805</td>\n",
       "      <td>HSPA13</td>\n",
       "      <td>-</td>\n",
       "    </tr>\n",
       "  </tbody>\n",
       "</table>\n",
       "</div>"
      ],
      "text/plain": [
       "       0         1         2           3  4\n",
       "0  chr21  10906201  11029719        TPTE  -\n",
       "1  chr21  14741931  14745386  AL050302.1  -\n",
       "2  chr21  15051621  15053459  AL050303.1  -\n",
       "3  chr21  15481134  15583166        LIPI  -\n",
       "4  chr21  15743436  15755805      HSPA13  -"
      ]
     },
     "execution_count": 60,
     "metadata": {},
     "output_type": "execute_result"
    }
   ],
   "source": [
    "chr21"
   ]
  },
  {
   "cell_type": "code",
   "execution_count": 44,
   "metadata": {},
   "outputs": [
    {
     "data": {
      "text/plain": [
       "'../data/chr_gene_lists/chrY.neg'"
      ]
     },
     "execution_count": 44,
     "metadata": {},
     "output_type": "execute_result"
    }
   ],
   "source": [
    "files[-1]"
   ]
  },
  {
   "cell_type": "code",
   "execution_count": 20,
   "metadata": {},
   "outputs": [
    {
     "name": "stdout",
     "output_type": "stream",
     "text": [
      "Pandas(Index=0, _1='chr21', _2=10906201, _3=11029719, _4='TPTE', _5='.', _6='neg')\n"
     ]
    }
   ],
   "source": [
    "for i in df.itertuples(index=True):\n",
    "    print(i.); break"
   ]
  },
  {
   "cell_type": "code",
   "execution_count": null,
   "metadata": {},
   "outputs": [],
   "source": []
  },
  {
   "cell_type": "markdown",
   "metadata": {},
   "source": [
    "## Stix runner\n",
    "```\n",
    "#!/usr/bin/env bash\n",
    "# for query gene, search for gene fusions; same chr and strand\n",
    "\n",
    "# ex: stix_runner.sh > stix_runner.log 2>&1\n",
    "\n",
    "# args\n",
    "set -u\n",
    "gene_i=${1:-ERG}\n",
    "chr=${2:-21}\n",
    "l_s=${3:-39751949}\n",
    "l_e=${4:-40033704}\n",
    "gene_file=${5:-chr21.neg}\n",
    "outdir=${6:-/data/jake/gene-fusion/tmp}\n",
    "[ -d \"$outdir\" ] || { echo \"Directory '$outdir' does not exist. Exiting.\"; exit 1; }\n",
    "echo \"BEGIN\"\n",
    "date\n",
    "echo -e \"#gene: $gene_i\\tchr: $chr\\tl_s: $l_s\\tl_e: $l_e\\tgene_file: $gene_file\\toutdir: $outdir\" \n",
    "# query stix with gene_i=left and gene_j:= rows in gene bed file\n",
    "while read -r _ r_s r_e gene_j _; do\n",
    "  echo \"#gene_j: $gene_j\"\n",
    "  if [ \"$r_s\" -gt \"$l_e\" ]; then\n",
    "    # verify slop parameter\n",
    "    stix -i alt_sort_b -d 1kg.ped.db -s 500 -t DEL -l $chr:$l_s-$l_e -r $chr:$r_s-$r_e > $outdir/$gene_i.$gene_j.stix\n",
    "  else\n",
    "    echo \"#skipping $gene_j (preceeds query)\"\n",
    "  fi\n",
    "done < $gene_file\n",
    "date\n",
    "echo \"END\"\n",
    "\n",
    "# next:\n",
    "# perform query for each unique gene,chromosome,strand #!/usr/bin/env bash\n",
    "# for query gene, search for gene fusions; same chr and strand\n",
    "\n",
    "# ex: stix_runner.sh > stix_runner.log 2>&1\n",
    "\n",
    "# args\n",
    "set -u\n",
    "gene_i=${1:-ERG}\n",
    "chr=${2:-21}\n",
    "l_s=${3:-39751949}\n",
    "l_e=${4:-40033704}\n",
    "gene_file=${5:-chr21.neg}\n",
    "outdir=${6:-/data/jake/gene-fusion/tmp}\n",
    "[ -d \"$outdir\" ] || { echo \"Directory '$outdir' does not exist. Exiting.\"; exit 1; }\n",
    "echo \"BEGIN\"\n",
    "date\n",
    "echo -e \"#gene: $gene_i\\tchr: $chr\\tl_s: $l_s\\tl_e: $l_e\\tgene_file: $gene_file\\toutdir: $outdir\" \n",
    "# query stix with gene_i=left and gene_j:= rows in gene bed file\n",
    "while read -r _ r_s r_e gene_j _; do\n",
    "  echo \"#gene_j: $gene_j\"\n",
    "  if [ \"$r_s\" -gt \"$l_e\" ]; then\n",
    "    # verify slop parameter\n",
    "    stix -i alt_sort_b -d 1kg.ped.db -s 500 -t DEL -l $chr:$l_s-$l_e -r $chr:$r_s-$r_e > $outdir/$gene_i.$gene_j.stix\n",
    "  else\n",
    "    echo \"#skipping $gene_j (preceeds query)\"\n",
    "  fi\n",
    "done < $gene_file\n",
    "date\n",
    "echo \"END\"\n",
    "\n",
    "# next:\n",
    "# perform query for each unique gene,chromosome,strand \n",
    "```"
   ]
  },
  {
   "cell_type": "code",
   "execution_count": null,
   "metadata": {},
   "outputs": [],
   "source": [
    "def "
   ]
  },
  {
   "cell_type": "code",
   "execution_count": null,
   "metadata": {},
   "outputs": [],
   "source": []
  },
  {
   "cell_type": "code",
   "execution_count": 4,
   "metadata": {},
   "outputs": [
    {
     "data": {
      "text/html": [
       "<div>\n",
       "<style scoped>\n",
       "    .dataframe tbody tr th:only-of-type {\n",
       "        vertical-align: middle;\n",
       "    }\n",
       "\n",
       "    .dataframe tbody tr th {\n",
       "        vertical-align: top;\n",
       "    }\n",
       "\n",
       "    .dataframe thead th {\n",
       "        text-align: right;\n",
       "    }\n",
       "</style>\n",
       "<table border=\"1\" class=\"dataframe\">\n",
       "  <thead>\n",
       "    <tr style=\"text-align: right;\">\n",
       "      <th></th>\n",
       "      <th>samples</th>\n",
       "    </tr>\n",
       "  </thead>\n",
       "  <tbody>\n",
       "    <tr>\n",
       "      <th>0</th>\n",
       "      <td>0</td>\n",
       "    </tr>\n",
       "    <tr>\n",
       "      <th>1</th>\n",
       "      <td>1</td>\n",
       "    </tr>\n",
       "    <tr>\n",
       "      <th>2</th>\n",
       "      <td>2</td>\n",
       "    </tr>\n",
       "    <tr>\n",
       "      <th>3</th>\n",
       "      <td>3</td>\n",
       "    </tr>\n",
       "    <tr>\n",
       "      <th>4</th>\n",
       "      <td>4</td>\n",
       "    </tr>\n",
       "    <tr>\n",
       "      <th>...</th>\n",
       "      <td>...</td>\n",
       "    </tr>\n",
       "    <tr>\n",
       "      <th>95</th>\n",
       "      <td>95</td>\n",
       "    </tr>\n",
       "    <tr>\n",
       "      <th>96</th>\n",
       "      <td>96</td>\n",
       "    </tr>\n",
       "    <tr>\n",
       "      <th>97</th>\n",
       "      <td>97</td>\n",
       "    </tr>\n",
       "    <tr>\n",
       "      <th>98</th>\n",
       "      <td>98</td>\n",
       "    </tr>\n",
       "    <tr>\n",
       "      <th>99</th>\n",
       "      <td>99</td>\n",
       "    </tr>\n",
       "  </tbody>\n",
       "</table>\n",
       "<p>100 rows × 1 columns</p>\n",
       "</div>"
      ],
      "text/plain": [
       "    samples\n",
       "0         0\n",
       "1         1\n",
       "2         2\n",
       "3         3\n",
       "4         4\n",
       "..      ...\n",
       "95       95\n",
       "96       96\n",
       "97       97\n",
       "98       98\n",
       "99       99\n",
       "\n",
       "[100 rows x 1 columns]"
      ]
     },
     "execution_count": 4,
     "metadata": {},
     "output_type": "execute_result"
    }
   ],
   "source": [
    "def agg_gene_fusion(samples, gene_list,pop_label=None):\n",
    "    A = pd.DataFrame({'samples': range(100)})\n",
    "    c = range(23)\n",
    "    # chr\n",
    "    for i in c:\n",
    "        n = len(gene_list)\n",
    "        # gene_left\n",
    "        for j in range(n):\n",
    "            strand_j = gene_list[j][3]\n",
    "            # gene right\n",
    "            for k in range(j+1,n):\n",
    "                strand_k = gene_list[k][3]\n",
    "                if strand_j == strand_k:\n",
    "                    # stix data\n",
    "                    df = STIX(i, l , r)\n",
    "                    # sample\n",
    "                    for l in range(samples):\n",
    "                        if df.evidence[l] > 0:\n",
    "                            A[l,g_i] = df.evidence\n",
    "               \n",
    "            "
   ]
  }
 ],
 "metadata": {
  "kernelspec": {
   "display_name": "Python 3 (ipykernel)",
   "language": "python",
   "name": "python3"
  },
  "language_info": {
   "codemirror_mode": {
    "name": "ipython",
    "version": 3
   },
   "file_extension": ".py",
   "mimetype": "text/x-python",
   "name": "python",
   "nbconvert_exporter": "python",
   "pygments_lexer": "ipython3",
   "version": "3.12.2"
  }
 },
 "nbformat": 4,
 "nbformat_minor": 2
}
